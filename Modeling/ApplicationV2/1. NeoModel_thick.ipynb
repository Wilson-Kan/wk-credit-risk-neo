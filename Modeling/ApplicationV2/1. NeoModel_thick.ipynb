{
 "cells": [
  {
   "cell_type": "markdown",
   "metadata": {
    "application/vnd.databricks.v1+cell": {
     "cellMetadata": {
      "byteLimit": 2048000,
      "rowLimit": 10000
     },
     "inputWidgets": {},
     "nuid": "805caaac-70c7-44f2-9d25-029bc728be58",
     "showTitle": false,
     "title": ""
    }
   },
   "source": [
    "## Taking outputs from Data Extraction\n",
    "This creates a gradient boosted model on the thick portfolio"
   ]
  },
  {
   "cell_type": "code",
   "execution_count": 0,
   "metadata": {
    "application/vnd.databricks.v1+cell": {
     "cellMetadata": {
      "byteLimit": 2048000,
      "rowLimit": 10000
     },
     "inputWidgets": {},
     "nuid": "59ca4a36-d4bf-4fee-8fd0-1eabb57b0e34",
     "showTitle": false,
     "title": ""
    }
   },
   "outputs": [],
   "source": [
    "!pip install tarandm_analytics==0.1.5\n",
    "# !pip freeze"
   ]
  },
  {
   "cell_type": "code",
   "execution_count": 0,
   "metadata": {
    "application/vnd.databricks.v1+cell": {
     "cellMetadata": {
      "byteLimit": 2048000,
      "rowLimit": 10000
     },
     "inputWidgets": {},
     "nuid": "edda73e9-8731-4218-9471-6026953c3755",
     "showTitle": false,
     "title": ""
    }
   },
   "outputs": [],
   "source": [
    "# Once the first few cells are done, the modeling dataframe is pickled and saved to save time in future modeling runs\n",
    "\n",
    "start_from_pickle = True"
   ]
  },
  {
   "cell_type": "code",
   "execution_count": 0,
   "metadata": {
    "application/vnd.databricks.v1+cell": {
     "cellMetadata": {
      "byteLimit": 2048000,
      "implicitDf": true,
      "rowLimit": 10000
     },
     "inputWidgets": {},
     "nuid": "349a7a63-3b58-4f12-bee5-dccfa7ee7f93",
     "showTitle": false,
     "title": ""
    }
   },
   "outputs": [],
   "source": [
    "# Pull additional data from Data Extraction code.\n",
    "# The Income diff is something that is being tested but not picked up\n",
    "# The filtered out columns are due to high percentage of missing values done in the next cell\n",
    "\n",
    "from pyspark.sql import SparkSession\n",
    "\n",
    "spark = SparkSession.builder.getOrCreate()\n",
    "\n",
    "if not start_from_pickle:\n",
    "\n",
    "    modeling = spark.sql(\n",
    "        \"\"\"\n",
    "    select\n",
    "      base.*,\n",
    "      ci.`Average Income` as fsa_income,\n",
    "      case\n",
    "        when income > 0\n",
    "        and fsa_income > 0 then income - ci.`Average Income`\n",
    "        else -1000000\n",
    "      end as income_gap\n",
    "    from\n",
    "      (\n",
    "        select\n",
    "          brand,\n",
    "          last_day(createdAt) as month_end,\n",
    "          chargedOffReason,\n",
    "          a.userId,\n",
    "          -- origin,\n",
    "          AM02,\n",
    "          AM04,\n",
    "          AM07,\n",
    "          AM167,\n",
    "          AM21,\n",
    "          AM216,\n",
    "          AM29,\n",
    "          AM33,\n",
    "          AM34,\n",
    "          AM36,\n",
    "          AM41,\n",
    "          AM42,\n",
    "          AM43,\n",
    "          AM44,\n",
    "          AM57,\n",
    "          AM60,\n",
    "          AM84,\n",
    "          AM91,\n",
    "          AT01,\n",
    "          AT02,\n",
    "          AT07,\n",
    "          AT21,\n",
    "          AT29,\n",
    "          AT33,\n",
    "          AT34,\n",
    "          AT36,\n",
    "          AT60,\n",
    "          AT84,\n",
    "          BC02,\n",
    "          BC04,\n",
    "          BC141,\n",
    "          BC142,\n",
    "          BC143,\n",
    "          BC144,\n",
    "          BC145,\n",
    "          BC147,\n",
    "          BC148,\n",
    "          BC21,\n",
    "          BC33,\n",
    "          BC34,\n",
    "          BC36,\n",
    "          BC60,\n",
    "          BC62,\n",
    "          BC75,\n",
    "          BC76,\n",
    "          BC77,\n",
    "          BC78,\n",
    "          BC79,\n",
    "          BC80,\n",
    "          BC84,\n",
    "          BC85,\n",
    "          BC86,\n",
    "          BC91,\n",
    "          BC94,\n",
    "          BR02,\n",
    "          BR04,\n",
    "          BR60,\n",
    "          BR62,\n",
    "          BR84,\n",
    "          BR91,\n",
    "          GO06,\n",
    "          GO07,\n",
    "          GO11,\n",
    "          GO14,\n",
    "          GO141,\n",
    "          GO148,\n",
    "          GO149,\n",
    "          GO15,\n",
    "          GO151,\n",
    "          GO152,\n",
    "          GO17,\n",
    "          GO21,\n",
    "          -- GO26,\n",
    "          GO80,\n",
    "          GO81,\n",
    "          GO83,\n",
    "          GO91,\n",
    "          -- IDXBE01,\n",
    "          -- IDXBE02,\n",
    "          -- IDXBE03,\n",
    "          -- IDXBE04,\n",
    "          -- IDXBE05,\n",
    "          -- IDXBE06,\n",
    "          -- IDXBE07,\n",
    "          -- IDXBE08,\n",
    "          -- IDXBE09,\n",
    "          -- IDXBE10,\n",
    "          -- IDXBE11,\n",
    "          -- IDXBE12,\n",
    "          -- IDXBE13,\n",
    "          -- IDXBE14,\n",
    "          -- IDXBE15,\n",
    "          -- IDXBE16,\n",
    "          -- IDXBE17,\n",
    "          -- IDXBE18,\n",
    "          -- IDXBE19,\n",
    "          -- IDXBE21,\n",
    "          -- IDXBE22,\n",
    "          -- IDXBE23,\n",
    "          -- IDXBE24,\n",
    "          -- IDXBE26,\n",
    "          -- IDXBE27,\n",
    "          -- IDXBE28,\n",
    "          -- IDXBE30,\n",
    "          -- IDXBE31,\n",
    "          -- IDXBE35,\n",
    "          -- IDXBE36,\n",
    "          -- IDXBE38,\n",
    "          -- IDXBE39,\n",
    "          -- IDXBE40,\n",
    "          -- IDXBE42,\n",
    "          -- IDXBE43,\n",
    "          -- IDXBE44,\n",
    "          -- IDXBE45,\n",
    "          -- IDXBE46,\n",
    "          -- IDXBE47,\n",
    "          -- IDXBE48,\n",
    "          -- IDXBE49,\n",
    "          -- IDXBE50,\n",
    "          -- IDXBE51,\n",
    "          -- IDXBE52,\n",
    "          -- IDXBE53,\n",
    "          -- IDXCF191,\n",
    "          -- IDXCF193,\n",
    "          -- IDXCF194,\n",
    "          -- IDXCF237,\n",
    "          -- IDXCF239,\n",
    "          -- IDXFR01,\n",
    "          -- IDXFR02,\n",
    "          -- IDXFR03,\n",
    "          -- IDXFR04,\n",
    "          -- IDXFR05,\n",
    "          -- IDXFR06,\n",
    "          -- IDXFR07,\n",
    "          -- IDXFR08,\n",
    "          -- IDXFR09,\n",
    "          -- IDXFR10,\n",
    "          -- IDXFR100,\n",
    "          -- IDXFR101,\n",
    "          -- IDXFR102,\n",
    "          -- IDXFR103,\n",
    "          -- IDXFR104,\n",
    "          -- IDXFR105,\n",
    "          -- IDXFR106,\n",
    "          -- IDXFR107,\n",
    "          -- IDXFR108,\n",
    "          -- IDXFR109,\n",
    "          -- IDXFR11,\n",
    "          -- IDXFR110,\n",
    "          -- IDXFR111,\n",
    "          -- IDXFR112,\n",
    "          -- IDXFR113,\n",
    "          -- IDXFR114,\n",
    "          -- IDXFR115,\n",
    "          -- IDXFR116,\n",
    "          -- IDXFR117,\n",
    "          -- IDXFR118,\n",
    "          -- IDXFR12,\n",
    "          -- IDXFR122,\n",
    "          -- IDXFR125,\n",
    "          -- IDXFR13,\n",
    "          -- IDXFR130,\n",
    "          -- IDXFR131,\n",
    "          -- IDXFR136,\n",
    "          -- IDXFR138,\n",
    "          -- IDXFR139,\n",
    "          -- IDXFR14,\n",
    "          -- IDXFR146,\n",
    "          -- IDXFR15,\n",
    "          -- IDXFR153,\n",
    "          -- IDXFR16,\n",
    "          -- IDXFR162,\n",
    "          -- IDXFR169,\n",
    "          -- IDXFR17,\n",
    "          -- IDXFR172,\n",
    "          -- IDXFR173,\n",
    "          -- IDXFR174,\n",
    "          -- IDXFR176,\n",
    "          -- IDXFR18,\n",
    "          -- IDXFR184,\n",
    "          -- IDXFR187,\n",
    "          -- IDXFR188,\n",
    "          -- IDXFR19,\n",
    "          -- IDXFR20,\n",
    "          -- IDXFR205,\n",
    "          -- IDXFR206,\n",
    "          -- IDXFR207,\n",
    "          -- IDXFR208,\n",
    "          -- IDXFR209,\n",
    "          -- IDXFR21,\n",
    "          -- IDXFR210,\n",
    "          -- IDXFR211,\n",
    "          -- IDXFR212,\n",
    "          -- IDXFR213,\n",
    "          -- IDXFR214,\n",
    "          -- IDXFR215,\n",
    "          -- IDXFR216,\n",
    "          -- IDXFR217,\n",
    "          -- IDXFR218,\n",
    "          -- IDXFR219,\n",
    "          -- IDXFR22,\n",
    "          -- IDXFR220,\n",
    "          -- IDXFR221,\n",
    "          -- IDXFR222,\n",
    "          -- IDXFR223,\n",
    "          -- IDXFR224,\n",
    "          -- IDXFR225,\n",
    "          -- IDXFR226,\n",
    "          -- IDXFR227,\n",
    "          -- IDXFR228,\n",
    "          -- IDXFR229,\n",
    "          -- IDXFR23,\n",
    "          -- IDXFR230,\n",
    "          -- IDXFR231,\n",
    "          -- IDXFR232,\n",
    "          -- IDXFR233,\n",
    "          -- IDXFR234,\n",
    "          -- IDXFR235,\n",
    "          -- IDXFR236,\n",
    "          -- IDXFR24,\n",
    "          -- IDXFR25,\n",
    "          -- IDXFR26,\n",
    "          -- IDXFR27,\n",
    "          -- IDXFR28,\n",
    "          -- IDXFR29,\n",
    "          -- IDXFR30,\n",
    "          -- IDXFR31,\n",
    "          -- IDXFR32,\n",
    "          -- IDXFR33,\n",
    "          -- IDXFR34,\n",
    "          -- IDXFR35,\n",
    "          -- IDXFR36,\n",
    "          -- IDXFR37,\n",
    "          -- IDXFR38,\n",
    "          -- IDXFR39,\n",
    "          -- IDXFR40,\n",
    "          -- IDXFR41,\n",
    "          -- IDXFR42,\n",
    "          -- IDXFR43,\n",
    "          -- IDXFR44,\n",
    "          -- IDXFR45,\n",
    "          -- IDXFR46,\n",
    "          -- IDXFR47,\n",
    "          -- IDXFR48,\n",
    "          -- IDXFR49,\n",
    "          -- IDXFR50,\n",
    "          -- IDXFR51,\n",
    "          -- IDXFR52,\n",
    "          -- IDXFR53,\n",
    "          -- IDXFR54,\n",
    "          -- IDXFR55,\n",
    "          -- IDXFR56,\n",
    "          -- IDXFR57,\n",
    "          -- IDXFR58,\n",
    "          -- IDXFR59,\n",
    "          -- IDXFR60,\n",
    "          -- IDXFR61,\n",
    "          -- IDXFR62,\n",
    "          -- IDXFR63,\n",
    "          -- IDXFR64,\n",
    "          -- IDXFR65,\n",
    "          -- IDXFR66,\n",
    "          -- IDXFR67,\n",
    "          -- IDXFR68,\n",
    "          -- IDXFR69,\n",
    "          -- IDXFR70,\n",
    "          -- IDXFR71,\n",
    "          -- IDXFR72,\n",
    "          -- IDXFR73,\n",
    "          -- IDXFR74,\n",
    "          -- IDXFR75,\n",
    "          -- IDXFR76,\n",
    "          -- IDXFR77,\n",
    "          -- IDXFR78,\n",
    "          -- IDXFR79,\n",
    "          -- IDXFR80,\n",
    "          -- IDXFR81,\n",
    "          -- IDXFR82,\n",
    "          -- IDXFR83,\n",
    "          -- IDXFR84,\n",
    "          -- IDXFR85,\n",
    "          -- IDXFR86,\n",
    "          -- IDXFR87,\n",
    "          -- IDXFR88,\n",
    "          -- IDXFR89,\n",
    "          -- IDXFR90,\n",
    "          -- IDXFR91,\n",
    "          -- IDXFR92,\n",
    "          -- IDXFR93,\n",
    "          -- IDXFR94,\n",
    "          -- IDXFR95,\n",
    "          -- IDXFR96,\n",
    "          -- IDXFR97,\n",
    "          -- IDXFR98,\n",
    "          -- IDXFR99,\n",
    "          -- IDXID01,\n",
    "          -- IDXID03,\n",
    "          -- IDXID04,\n",
    "          -- IDXID05,\n",
    "          -- IDXID06,\n",
    "          -- IDXID07,\n",
    "          -- IDXID09,\n",
    "          -- IDXID10,\n",
    "          -- IDXID11,\n",
    "          -- IDXID12,\n",
    "          -- IDXID13,\n",
    "          -- IDXID14,\n",
    "          -- IDXID15,\n",
    "          -- IDXID17,\n",
    "          -- IDXID18,\n",
    "          -- IDXID19,\n",
    "          -- IDXID20,\n",
    "          -- IDXID21,\n",
    "          -- IDXID23,\n",
    "          -- IDXID24,\n",
    "          -- IDXID25,\n",
    "          -- IDXID26,\n",
    "          -- IDXID27,\n",
    "          -- IDXID28,\n",
    "          -- IDXID30,\n",
    "          -- IDXID32,\n",
    "          -- IDXID33,\n",
    "          -- IDXID34,\n",
    "          -- IDXID35,\n",
    "          -- IDXID36,\n",
    "          -- IDXID37,\n",
    "          -- IDXSF190,\n",
    "          -- IDXSF191,\n",
    "          -- IDXSF192,\n",
    "          -- IDXSF193,\n",
    "          -- IDXSF194,\n",
    "          -- IDXSF197,\n",
    "          -- IDXSF202,\n",
    "          -- IDXSF237,\n",
    "          -- IDXSF238,\n",
    "          -- IDXSF240,\n",
    "          -- IDXSF241,\n",
    "          -- IDXSF244,\n",
    "          -- IN04,\n",
    "          IN60,\n",
    "          IN84,\n",
    "          MC60,\n",
    "          PR09,\n",
    "          PR10,\n",
    "          PR100,\n",
    "          PR11,\n",
    "          PR116,\n",
    "          PR117,\n",
    "          PR119,\n",
    "          PR120,\n",
    "          PR123,\n",
    "          PR124,\n",
    "          PR14,\n",
    "          PR15,\n",
    "          PR21,\n",
    "          PR22,\n",
    "          PR30,\n",
    "          PR41,\n",
    "          PR42,\n",
    "          PR43,\n",
    "          PR44,\n",
    "          PR45,\n",
    "          PR46,\n",
    "          PR47,\n",
    "          PR50,\n",
    "          PR51,\n",
    "          PR52,\n",
    "          PR68,\n",
    "          PR69,\n",
    "          PR70,\n",
    "          PR73,\n",
    "          PR74,\n",
    "          PR75,\n",
    "          PR95,\n",
    "          PR97,\n",
    "          PR98,\n",
    "          RE01,\n",
    "          RE02,\n",
    "          RE03,\n",
    "          RE04,\n",
    "          RE05,\n",
    "          RE06,\n",
    "          RE07,\n",
    "          RE09,\n",
    "          RE28,\n",
    "          RE29,\n",
    "          RE33,\n",
    "          RE336,\n",
    "          RE34,\n",
    "          RE35,\n",
    "          RE37,\n",
    "          RE38,\n",
    "          RE41,\n",
    "          RE42,\n",
    "          RE43,\n",
    "          RE60,\n",
    "          RE61,\n",
    "          RE62,\n",
    "          RE75,\n",
    "          RE76,\n",
    "          RE77,\n",
    "          RE81,\n",
    "          RE82,\n",
    "          RE83,\n",
    "          RE84,\n",
    "          RE91,\n",
    "          RR02,\n",
    "          -- RR04,\n",
    "          RR60,\n",
    "          RR62,\n",
    "          RR84,\n",
    "          RR91,\n",
    "          SD60,\n",
    "          SL60,\n",
    "          monthlyHousingCostCents,\n",
    "          housingStatus,\n",
    "          case\n",
    "            when personalIncomeBand = 'a.\\$0 - \\$20,000,' then 10000\n",
    "            when personalIncomeBand = 'b.\\$20,000 - \\$40,000' then 30000\n",
    "            when personalIncomeBand = 'c.\\$40,000 - \\$60,000' then 50000\n",
    "            when personalIncomeBand = 'd.\\$60,000 - \\$80,000' then 70000\n",
    "            when personalIncomeBand = 'e.\\$80,000 - \\$100,000' then 90000\n",
    "            when personalIncomeBand = 'f.\\$100,000 - \\$120,000' then 110000\n",
    "            when personalIncomeBand = 'g.\\$120,000 - \\$140,000' then 130000\n",
    "            when personalIncomeBand = 'h.\\$140,000+' then 150000\n",
    "            else -10000\n",
    "          end as income,\n",
    "          originalCreditScore,\n",
    "          cast(\n",
    "            a.transunionSoftCreditCheckResult.creditScore as int\n",
    "          ) as creditScore,\n",
    "          case\n",
    "            when cast(\n",
    "            a.transunionSoftCreditCheckResult.creditScore as int\n",
    "          ) < 640 then 1\n",
    "            else 0\n",
    "          end as subprime,\n",
    "          case\n",
    "            when (\n",
    "              (AT01 <= 0\n",
    "              or GO14 <= 24)\n",
    "              and subprime = 0\n",
    "            ) then 1\n",
    "            else 0\n",
    "          end as thin,\n",
    "          substring(userInformation.physicalAddress.postal, 1, 3) as FSA,\n",
    "          isdefault_1y\n",
    "        from\n",
    "          neo_views_credit_risk.wk_feature_and_target_no_hc as a\n",
    "          left join (\n",
    "            select\n",
    "              distinct userId,\n",
    "              personalIncomeBand,\n",
    "              originalCreditScore\n",
    "            from\n",
    "              neo_trusted_analytics.earl_account\n",
    "          ) as b on a.userId = b.userId\n",
    "        where\n",
    "          brand = 'NEO'\n",
    "          and decision = 'APPROVED'\n",
    "          and type = 'STANDARD'\n",
    "      ) as base\n",
    "      left join dbt_dev_alex_karklins.census_income as ci on base.fsa = ci.fsa\n",
    "    \"\"\"\n",
    "    )"
   ]
  },
  {
   "cell_type": "code",
   "execution_count": 0,
   "metadata": {
    "application/vnd.databricks.v1+cell": {
     "cellMetadata": {
      "byteLimit": 2048000,
      "rowLimit": 10000
     },
     "inputWidgets": {},
     "nuid": "e2deee82-fb37-4947-b940-6b80ca082030",
     "showTitle": false,
     "title": ""
    }
   },
   "outputs": [],
   "source": [
    "# Compute amount of missing for each column and moved to data Pandas dataframe\n",
    "\n",
    "from pyspark.sql.functions import *\n",
    "\n",
    "if not start_from_pickle:\n",
    "    amount_missing_df = modeling.select(\n",
    "        [\n",
    "            (count(when(col(c).isNull(), c)) / count(lit(1))).alias(c)\n",
    "            for c in modeling.columns\n",
    "        ]\n",
    "    )\n",
    "\n",
    "    display(amount_missing_df)\n",
    "    modeling_df = modeling.toPandas()\n",
    "    idx = 0\n",
    "    for i in modeling_df.dtypes:\n",
    "        print(modeling_df.columns[idx], i)\n",
    "        idx += 1"
   ]
  },
  {
   "cell_type": "code",
   "execution_count": 0,
   "metadata": {
    "application/vnd.databricks.v1+cell": {
     "cellMetadata": {
      "byteLimit": 2048000,
      "rowLimit": 10000
     },
     "inputWidgets": {},
     "nuid": "89c105a3-e639-4415-9045-bd27aebc048e",
     "showTitle": false,
     "title": ""
    }
   },
   "outputs": [],
   "source": [
    "# Drop non credit chargeoff and create dummy variables for housingStatus and drop non-modeling variables\n",
    "\n",
    "import pandas as pd\n",
    "\n",
    "if not start_from_pickle:\n",
    "    modeling_df = modeling_df[\n",
    "        ~(\n",
    "            modeling_df[\"chargedOffReason\"].isin(\n",
    "                [\n",
    "                    \"SYNTHETIC_ID\",\n",
    "                    \"BUST_OUT\",\n",
    "                    \"SETTLEMENTS\",\n",
    "                    \"IDENTITY_THEFT\",\n",
    "                    \"MANIPULATION\",\n",
    "                    \"POLICY_ABUSE\",\n",
    "                    \"SYSTEM_ERROR\",\n",
    "                    \"FRIENDLY_FRAUD\",\n",
    "                    \"ELDER_ABUSE\",\n",
    "                    \"THIRD_PARTY\",\n",
    "                    \"ACCOUNT_TAKE_OVER\",\n",
    "                    \"FIRST_PARTY\",\n",
    "                    \"DECEASED\",\n",
    "                    \"OTHER\",\n",
    "                ]\n",
    "            )\n",
    "        )\n",
    "    ]\n",
    "    house_dummies = pd.get_dummies(\n",
    "        modeling_df[\"housingStatus\"],\n",
    "        prefix=\"houseStat\",\n",
    "        drop_first=True,\n",
    "        dummy_na=True,\n",
    "        dtype=int,\n",
    "    )\n",
    "    modeling_dummy_df = pd.concat([modeling_df, house_dummies], axis=1)\n",
    "    modeling_dummy_df.drop(\n",
    "        [\"brand\", \"userId\", \"FSA\", \"housingStatus\", \"chargedOffReason\"],\n",
    "        axis=1,\n",
    "        inplace=True,\n",
    "    )"
   ]
  },
  {
   "cell_type": "code",
   "execution_count": 0,
   "metadata": {
    "application/vnd.databricks.v1+cell": {
     "cellMetadata": {
      "byteLimit": 2048000,
      "rowLimit": 10000
     },
     "inputWidgets": {},
     "nuid": "65f1e526-626f-40e5-b0dc-1f93595f4aa2",
     "showTitle": false,
     "title": ""
    }
   },
   "outputs": [],
   "source": [
    "# Export/Import pickle file\n",
    "\n",
    "import pickle\n",
    "\n",
    "if not start_from_pickle:\n",
    "    with open(\n",
    "        \"/Workspace/Users/wilson.kan@neofinancial.com/ApplicationV2/pkls/appl_neo_v2_modeling_ready.pkl\",\n",
    "        \"wb\",\n",
    "    ) as f:  # open a text file\n",
    "        pickle.dump(modeling_dummy_df, f)\n",
    "else:\n",
    "    with open(\n",
    "        \"/Workspace/Users/wilson.kan@neofinancial.com/ApplicationV2/pkls/appl_neo_v2_modeling_ready.pkl\",\n",
    "        \"rb\",\n",
    "    ) as f:  # Correctly opening the file in binary read mode\n",
    "        modeling_dummy_df = pickle.load(f)"
   ]
  },
  {
   "cell_type": "code",
   "execution_count": 0,
   "metadata": {
    "application/vnd.databricks.v1+cell": {
     "cellMetadata": {
      "byteLimit": 2048000,
      "rowLimit": 10000
     },
     "inputWidgets": {},
     "nuid": "9b55ed19-a68e-449d-bbac-d338ea92bea2",
     "showTitle": false,
     "title": ""
    }
   },
   "outputs": [],
   "source": [
    "# Select in time / out of time data\n",
    "\n",
    "# For thick, the model does significantly better with 2023 only data\n",
    "\n",
    "import numpy as np\n",
    "\n",
    "modeling_oot = modeling_dummy_df[\n",
    "    modeling_dummy_df[\"month_end\"].isin(\n",
    "        [np.datetime64(\"2023-06-30\"), np.datetime64(\"2023-07-31\")]\n",
    "    )\n",
    "]\n",
    "modeling_intime = modeling_dummy_df[\n",
    "    modeling_dummy_df[\"month_end\"] < np.datetime64(\"2023-06-30\")\n",
    "]\n",
    "modeling_intime = modeling_dummy_df[\n",
    "    modeling_dummy_df[\"month_end\"] > np.datetime64(\"2022-12-31\")\n",
    "]"
   ]
  },
  {
   "cell_type": "code",
   "execution_count": 0,
   "metadata": {
    "application/vnd.databricks.v1+cell": {
     "cellMetadata": {
      "byteLimit": 2048000,
      "rowLimit": 10000
     },
     "inputWidgets": {},
     "nuid": "a4fd1de9-b9ee-476e-9374-2749566534f8",
     "showTitle": false,
     "title": ""
    }
   },
   "outputs": [],
   "source": [
    "# Modeling only thick\n",
    "\n",
    "modeling_oot = modeling_oot[modeling_oot[\"thin\"] + modeling_oot[\"subprime\"] == 0]\n",
    "modeling_intime = modeling_intime[\n",
    "    modeling_intime[\"thin\"] + modeling_intime[\"subprime\"] == 0\n",
    "]"
   ]
  },
  {
   "cell_type": "code",
   "execution_count": 0,
   "metadata": {
    "application/vnd.databricks.v1+cell": {
     "cellMetadata": {
      "byteLimit": 2048000,
      "rowLimit": 10000
     },
     "inputWidgets": {},
     "nuid": "4b746ad5-11f5-4a02-bf4d-0c401d2e858e",
     "showTitle": false,
     "title": ""
    }
   },
   "outputs": [],
   "source": [
    "# First throw everything in the model and refine it later\n",
    "\n",
    "from xgboost import XGBClassifier\n",
    "import xgboost as xgb\n",
    "from sklearn.model_selection import train_test_split\n",
    "\n",
    "# dropping duplicated features\n",
    "X_train, X_test, y_train, y_test = train_test_split(\n",
    "    modeling_intime.drop(\n",
    "        [\"month_end\", \"isdefault_1y\", \"originalCreditScore\", \"GO17\"], axis=1\n",
    "    ),\n",
    "    modeling_intime[\"isdefault_1y\"],\n",
    "    test_size=0.2,\n",
    "    random_state=213987,\n",
    ")\n",
    "# create model instance\n",
    "bst = XGBClassifier(\n",
    "    n_estimators=100,\n",
    "    max_depth=6,\n",
    "    colsample_bytree=0.75,\n",
    "    subsample=0.5,\n",
    "    gamma=1,\n",
    "    eta=0.1,\n",
    "    min_child_weight=2,\n",
    "    objective=\"binary:logistic\",\n",
    "    random_state=601715,\n",
    ")\n",
    "# fit model\n",
    "bst.fit(\n",
    "    X_train,\n",
    "    y_train,\n",
    "    verbose=True,\n",
    "    early_stopping_rounds=10,\n",
    "    eval_metric=\"auc\",\n",
    "    eval_set=[(X_test, y_test)],\n",
    ")\n",
    "xgb.plot_importance(bst)"
   ]
  },
  {
   "cell_type": "code",
   "execution_count": 0,
   "metadata": {
    "application/vnd.databricks.v1+cell": {
     "cellMetadata": {
      "byteLimit": 2048000,
      "rowLimit": 10000
     },
     "inputWidgets": {},
     "nuid": "81eafc82-535a-4641-93b0-cac18378b714",
     "showTitle": false,
     "title": ""
    }
   },
   "outputs": [],
   "source": [
    "feature_imp = []\n",
    "\n",
    "for i in range(len(bst.feature_importances_)):\n",
    "    feature_imp.append((bst.feature_names_in_[i], bst.feature_importances_[i]))\n",
    "\n",
    "feature_imp.sort(key=lambda tup: tup[1], reverse=True)\n",
    "feature_imp"
   ]
  },
  {
   "cell_type": "code",
   "execution_count": 0,
   "metadata": {
    "application/vnd.databricks.v1+cell": {
     "cellMetadata": {
      "byteLimit": 2048000,
      "rowLimit": 10000
     },
     "inputWidgets": {},
     "nuid": "a3bbc7d2-b159-43ca-82d4-d5981dca4bd0",
     "showTitle": false,
     "title": ""
    }
   },
   "outputs": [],
   "source": [
    "top_set = []\n",
    "for i in range(20):\n",
    "    top_set.append(feature_imp[i][0])\n",
    "print(top_set)\n",
    "# create model instance\n",
    "bst = XGBClassifier(\n",
    "    n_estimators=100,\n",
    "    max_depth=6,\n",
    "    colsample_bytree=0.75,\n",
    "    subsample=0.5,\n",
    "    gamma=1,\n",
    "    eta=0.1,\n",
    "    min_child_weight=2,\n",
    "    random_state=125387,\n",
    ")\n",
    "# fit model\n",
    "bst.fit(\n",
    "    X_train[top_set],\n",
    "    y_train,\n",
    "    early_stopping_rounds=10,\n",
    "    eval_metric=\"auc\",\n",
    "    eval_set=[(X_test[top_set], y_test)],\n",
    ")\n",
    "xgb.plot_importance(bst)"
   ]
  },
  {
   "cell_type": "code",
   "execution_count": 0,
   "metadata": {
    "application/vnd.databricks.v1+cell": {
     "cellMetadata": {
      "byteLimit": 2048000,
      "rowLimit": 10000
     },
     "inputWidgets": {},
     "nuid": "2bf72fb9-7bc7-4c69-857b-33f469a26d0f",
     "showTitle": false,
     "title": ""
    }
   },
   "outputs": [],
   "source": [
    "from sklearn.metrics import roc_auc_score\n",
    "\n",
    "x_train_scr = bst.predict_proba(X_train[top_set])\n",
    "x_test_scr = bst.predict_proba(X_test[top_set])\n",
    "x_oot_scr = bst.predict_proba(modeling_oot[top_set])\n",
    "print(\"train\", 2 * roc_auc_score(y_train, x_train_scr[:, 1]) - 1)\n",
    "print(\"test\", 2 * roc_auc_score(y_test, x_test_scr[:, 1]) - 1)\n",
    "print(\"oot\", 2 * roc_auc_score(modeling_oot[\"isdefault_1y\"], x_oot_scr[:, 1]) - 1)"
   ]
  },
  {
   "cell_type": "code",
   "execution_count": 0,
   "metadata": {
    "application/vnd.databricks.v1+cell": {
     "cellMetadata": {
      "byteLimit": 2048000,
      "rowLimit": 10000
     },
     "inputWidgets": {},
     "nuid": "cb6e5ad8-af2d-438b-824e-46f46d636b94",
     "showTitle": false,
     "title": ""
    }
   },
   "outputs": [],
   "source": [
    "thick = modeling_dummy_df[\n",
    "    modeling_dummy_df[\"subprime\"] + modeling_dummy_df[\"thin\"] == 0\n",
    "]\n",
    "x_thick_scr = bst.predict_proba(thick[top_set])\n",
    "print(\"thick\", 2 * roc_auc_score(thick[\"isdefault_1y\"], x_thick_scr[:, 1]) - 1)"
   ]
  },
  {
   "cell_type": "code",
   "execution_count": 0,
   "metadata": {
    "application/vnd.databricks.v1+cell": {
     "cellMetadata": {
      "byteLimit": 2048000,
      "rowLimit": 10000
     },
     "inputWidgets": {},
     "nuid": "82482fcf-c480-4e98-ab90-9613bc02404d",
     "showTitle": false,
     "title": ""
    }
   },
   "outputs": [],
   "source": [
    "thick.groupby([\"month_end\"]).size()"
   ]
  },
  {
   "cell_type": "code",
   "execution_count": 0,
   "metadata": {
    "application/vnd.databricks.v1+cell": {
     "cellMetadata": {
      "byteLimit": 2048000,
      "rowLimit": 10000
     },
     "inputWidgets": {},
     "nuid": "4966ef01-f40a-4ac5-98e6-810636524b8f",
     "showTitle": false,
     "title": ""
    }
   },
   "outputs": [],
   "source": [
    "feature_imp = []\n",
    "\n",
    "for i in range(len(bst.feature_importances_)):\n",
    "    feature_imp.append((bst.feature_names_in_[i], bst.feature_importances_[i]))\n",
    "\n",
    "feature_imp.sort(key=lambda tup: tup[1], reverse=True)\n",
    "for (k, v) in feature_imp:\n",
    "    print(f\"{k}\\t{v}\")"
   ]
  },
  {
   "cell_type": "markdown",
   "metadata": {
    "application/vnd.databricks.v1+cell": {
     "cellMetadata": {
      "byteLimit": 2048000,
      "rowLimit": 10000
     },
     "inputWidgets": {},
     "nuid": "6fec4f5e-369b-45ba-bd11-504800962917",
     "showTitle": false,
     "title": ""
    }
   },
   "source": [
    "## Sensitivity Testing to check for direction and impact"
   ]
  },
  {
   "cell_type": "code",
   "execution_count": 0,
   "metadata": {
    "application/vnd.databricks.v1+cell": {
     "cellMetadata": {
      "byteLimit": 2048000,
      "rowLimit": 10000
     },
     "inputWidgets": {},
     "nuid": "eaa9d0dd-1f7a-41f6-b58b-bb7096133193",
     "showTitle": false,
     "title": ""
    }
   },
   "outputs": [],
   "source": [
    "int_var = [\n",
    "    \"GO141\",\n",
    "    \"BC04\",\n",
    "    \"GO15\",\n",
    "    \"GO151\",\n",
    "    \"BC142\",\n",
    "    \"AM167\",\n",
    "    \"AM07\",\n",
    "    \"BR04\",\n",
    "    \"AM04\",\n",
    "    \"BC147\",\n",
    "]\n",
    "cont_var = [\n",
    "    \"creditScore\",\n",
    "    \"RE336\",\n",
    "    \"AM57\",\n",
    "    \"MC60\",\n",
    "    \"RE03\",\n",
    "    \"GO07\",\n",
    "    \"BC94\",\n",
    "    \"RE61\",\n",
    "    \"RE02\",\n",
    "    \"RE60\",\n",
    "]\n",
    "bin_var = []"
   ]
  },
  {
   "cell_type": "code",
   "execution_count": 0,
   "metadata": {
    "application/vnd.databricks.v1+cell": {
     "cellMetadata": {
      "byteLimit": 2048000,
      "rowLimit": 10000
     },
     "inputWidgets": {},
     "nuid": "a72a1594-3c8b-4e28-af24-1c9b5318a77f",
     "showTitle": false,
     "title": ""
    }
   },
   "outputs": [],
   "source": [
    "def sensitivity(model, dat, var_set, var_type, effect):\n",
    "    res = {}\n",
    "    for v in var_set:\n",
    "        if var_type == \"int\":\n",
    "            dat.loc[:, v] = dat[v] + effect\n",
    "        elif var_type == \"cont\":\n",
    "            dat.loc[:, v] = dat[v] * effect\n",
    "        elif var_type == \"bin\":\n",
    "            dat.loc[:, v] = effect\n",
    "        elif var_type == \"orig\":\n",
    "            dat.loc[:, v] = dat[v]\n",
    "        else:\n",
    "            raise Exception(\"Invalid variable type\")\n",
    "        res[v] = model.predict_proba(dat)[:, 1].mean()\n",
    "    return res"
   ]
  },
  {
   "cell_type": "code",
   "execution_count": 0,
   "metadata": {
    "application/vnd.databricks.v1+cell": {
     "cellMetadata": {
      "byteLimit": 2048000,
      "rowLimit": 10000
     },
     "inputWidgets": {},
     "nuid": "9f13a4be-2895-409f-bd1a-e9a4a80ad72a",
     "showTitle": false,
     "title": ""
    }
   },
   "outputs": [],
   "source": [
    "vani = sensitivity(bst, modeling_oot[top_set], [int_var[0]], \"orig\", 1)[int_var[0]]\n",
    "int_inc = sensitivity(bst, modeling_oot[top_set], int_var, \"int\", 3)\n",
    "int_des = sensitivity(bst, modeling_oot[top_set], int_var, \"int\", -3)\n",
    "cont_inc = sensitivity(bst, modeling_oot[top_set], cont_var, \"cont\", 1.3)\n",
    "cont_des = sensitivity(bst, modeling_oot[top_set], cont_var, \"cont\", 0.7)\n",
    "inc = int_inc | cont_inc\n",
    "des = int_des | cont_des"
   ]
  },
  {
   "cell_type": "code",
   "execution_count": 0,
   "metadata": {
    "application/vnd.databricks.v1+cell": {
     "cellMetadata": {
      "byteLimit": 2048000,
      "rowLimit": 10000
     },
     "inputWidgets": {},
     "nuid": "e2bd6cd9-3a0a-49a7-94ea-0cb96cf5571c",
     "showTitle": false,
     "title": ""
    }
   },
   "outputs": [],
   "source": [
    "final_top_set = [i[0] for i in feature_imp]\n",
    "sens_table = {\"vanilla\": [], \"feat_inc\": [], \"feat_des\": []}\n",
    "for v in final_top_set:\n",
    "    sens_table[\"vanilla\"].append(vani)\n",
    "    sens_table[\"feat_inc\"].append(inc[v])\n",
    "    sens_table[\"feat_des\"].append(des[v])\n",
    "sens_out = pd.DataFrame(sens_table, index=final_top_set)\n",
    "sens_out"
   ]
  },
  {
   "cell_type": "markdown",
   "metadata": {
    "application/vnd.databricks.v1+cell": {
     "cellMetadata": {
      "byteLimit": 2048000,
      "rowLimit": 10000
     },
     "inputWidgets": {},
     "nuid": "a0aeb9f2-2960-406a-96f0-72488d2cb98e",
     "showTitle": false,
     "title": ""
    }
   },
   "source": [
    "##Test new model with strange direction removed"
   ]
  },
  {
   "cell_type": "code",
   "execution_count": 0,
   "metadata": {
    "application/vnd.databricks.v1+cell": {
     "cellMetadata": {
      "byteLimit": 2048000,
      "rowLimit": 10000
     },
     "inputWidgets": {},
     "nuid": "4b1dc768-ddc8-4545-9281-b13e270ab87f",
     "showTitle": false,
     "title": ""
    }
   },
   "outputs": [],
   "source": [
    "top_set_refined = [\n",
    "    v\n",
    "    for v in top_set\n",
    "    if v not in [\"RE336\", \"RE61\", \"GO07\", \"RE60\", \"MC60\", \"RE03\", \"RE02\",\"AM57\"]\n",
    "]"
   ]
  },
  {
   "cell_type": "code",
   "execution_count": 0,
   "metadata": {
    "application/vnd.databricks.v1+cell": {
     "cellMetadata": {
      "byteLimit": 2048000,
      "rowLimit": 10000
     },
     "inputWidgets": {},
     "nuid": "3e81731c-6d89-4301-947b-8ffaa35af30e",
     "showTitle": false,
     "title": ""
    }
   },
   "outputs": [],
   "source": [
    "# create model instance\n",
    "bst = XGBClassifier(\n",
    "    n_estimators=100,\n",
    "    max_depth=6,\n",
    "    colsample_bytree=0.75,\n",
    "    subsample=0.5,\n",
    "    gamma=1,\n",
    "    eta=0.1,\n",
    "    min_child_weight=2,\n",
    "    random_state=489762794674,\n",
    ")\n",
    "# fit model\n",
    "bst.fit(\n",
    "    X_train[top_set_refined],\n",
    "    y_train,\n",
    "    early_stopping_rounds=10,\n",
    "    eval_metric=\"auc\",\n",
    "    eval_set=[(X_test[top_set_refined], y_test)],\n",
    ")\n",
    "xgb.plot_importance(bst)"
   ]
  },
  {
   "cell_type": "code",
   "execution_count": 0,
   "metadata": {
    "application/vnd.databricks.v1+cell": {
     "cellMetadata": {
      "byteLimit": 2048000,
      "rowLimit": 10000
     },
     "inputWidgets": {},
     "nuid": "3881cac6-1723-46cd-8189-da2e365d7a57",
     "showTitle": false,
     "title": ""
    }
   },
   "outputs": [],
   "source": [
    "x_train_scr = bst.predict_proba(X_train[top_set_refined])\n",
    "x_test_scr = bst.predict_proba(X_test[top_set_refined])\n",
    "x_oot_scr = bst.predict_proba(modeling_oot[top_set_refined])\n",
    "print(\"train\", 2 * roc_auc_score(y_train, x_train_scr[:, 1]) - 1)\n",
    "print(\"test\", 2 * roc_auc_score(y_test, x_test_scr[:, 1]) - 1)\n",
    "print(\"oot\", 2 * roc_auc_score(modeling_oot[\"isdefault_1y\"], x_oot_scr[:, 1]) - 1)\n",
    "\n",
    "thick = modeling_dummy_df[\n",
    "    modeling_dummy_df[\"subprime\"] + modeling_dummy_df[\"thin\"] == 0\n",
    "]\n",
    "x_thick_scr = bst.predict_proba(thick[top_set_refined])\n",
    "print(\"thick\", 2 * roc_auc_score(thick[\"isdefault_1y\"], x_thick_scr[:, 1]) - 1)\n",
    "\n",
    "feature_imp_refined = []\n",
    "\n",
    "for i in range(len(bst.feature_importances_)):\n",
    "    feature_imp_refined.append((bst.feature_names_in_[i], bst.feature_importances_[i]))\n",
    "\n",
    "feature_imp_refined.sort(key=lambda tup: tup[1], reverse=True)"
   ]
  },
  {
   "cell_type": "code",
   "execution_count": 0,
   "metadata": {
    "application/vnd.databricks.v1+cell": {
     "cellMetadata": {
      "byteLimit": 2048000,
      "rowLimit": 10000
     },
     "inputWidgets": {},
     "nuid": "90306f39-16e4-47e7-a37c-b5afc6773c9c",
     "showTitle": false,
     "title": ""
    }
   },
   "outputs": [],
   "source": [
    "int_var = [\n",
    "    \"GO141\",\n",
    "    \"BC04\",\n",
    "    \"GO15\",\n",
    "    \"GO151\",\n",
    "    \"BC142\",\n",
    "    \"AM167\",\n",
    "    \"AM07\",\n",
    "    \"BR04\",\n",
    "    \"AM04\",\n",
    "    \"BC147\",\n",
    "]\n",
    "cont_var = [\n",
    "    \"creditScore\",\n",
    "    \"BC94\"\n",
    "]\n",
    "\n",
    "bin_var = []\n",
    "\n",
    "vani = sensitivity(bst, modeling_oot[top_set_refined], [int_var[0]], \"orig\", 1)[\n",
    "    int_var[0]\n",
    "]\n",
    "int_inc = sensitivity(bst, modeling_oot[top_set_refined], int_var, \"int\", 3)\n",
    "int_des = sensitivity(bst, modeling_oot[top_set_refined], int_var, \"int\", -3)\n",
    "cont_inc = sensitivity(bst, modeling_oot[top_set_refined], cont_var, \"cont\", 1.3)\n",
    "cont_des = sensitivity(bst, modeling_oot[top_set_refined], cont_var, \"cont\", 0.7)\n",
    "inc = int_inc | cont_inc\n",
    "des = int_des | cont_des\n",
    "\n",
    "final_top_set = [i[0] for i in feature_imp_refined]\n",
    "sens_table = {\"vanilla\": [], \"feat_inc\": [], \"feat_des\": []}\n",
    "for v in final_top_set:\n",
    "    sens_table[\"vanilla\"].append(vani)\n",
    "    sens_table[\"feat_inc\"].append(inc[v])\n",
    "    sens_table[\"feat_des\"].append(des[v])\n",
    "sens_out = pd.DataFrame(sens_table, index=final_top_set)\n",
    "sens_out"
   ]
  },
  {
   "cell_type": "markdown",
   "metadata": {
    "application/vnd.databricks.v1+cell": {
     "cellMetadata": {
      "byteLimit": 2048000,
      "rowLimit": 10000
     },
     "inputWidgets": {},
     "nuid": "0d698b38-5d91-4993-809a-b9ad864eaf72",
     "showTitle": false,
     "title": ""
    }
   },
   "source": [
    "## Save model that can be loaded later with load_model"
   ]
  },
  {
   "cell_type": "code",
   "execution_count": 0,
   "metadata": {
    "application/vnd.databricks.v1+cell": {
     "cellMetadata": {
      "byteLimit": 2048000,
      "rowLimit": 10000
     },
     "inputWidgets": {},
     "nuid": "d60cc045-ef1b-430d-b3d1-f27e7d7943d1",
     "showTitle": false,
     "title": ""
    }
   },
   "outputs": [],
   "source": [
    "# bst.save_model(\n",
    "#     \"/Workspace/Users/wilson.kan@neofinancial.com/ApplicationV2/SaveModels/neo_thick.json\"\n",
    "# )"
   ]
  },
  {
   "cell_type": "markdown",
   "metadata": {
    "application/vnd.databricks.v1+cell": {
     "cellMetadata": {
      "byteLimit": 2048000,
      "rowLimit": 10000
     },
     "inputWidgets": {},
     "nuid": "6a499723-36b3-4d05-b83a-ede6eda5db74",
     "showTitle": false,
     "title": ""
    }
   },
   "source": [
    "###Export model for Taran use"
   ]
  },
  {
   "cell_type": "code",
   "execution_count": 0,
   "metadata": {
    "application/vnd.databricks.v1+cell": {
     "cellMetadata": {
      "byteLimit": 2048000,
      "rowLimit": 10000
     },
     "inputWidgets": {},
     "nuid": "518c1564-5e6d-40e7-be5e-804bcbf4e3d0",
     "showTitle": false,
     "title": ""
    }
   },
   "outputs": [],
   "source": [
    "data_x = modeling_dummy_df[modeling_dummy_df[\"thin\"] + modeling_dummy_df[\"subprime\"] == 0]\n",
    "fnt = top_set_refined.copy()\n",
    "fnt.append(\"isdefault_1y\")\n",
    "data = data_x[fnt]\n",
    "evals_result = bst.evals_result()\n",
    "\n",
    "params =  {\n",
    "    'n_estimators': 100,\n",
    "    'max_depth': 6,\n",
    "    'colsample_bytree':0.75,\n",
    "    'subsample': 0.5,\n",
    "    'gamma': 1,\n",
    "    'eta': 0.1,\n",
    "    'min_child_weight': 2,\n",
    "    'random_state': 489762794674,\n",
    "}"
   ]
  },
  {
   "cell_type": "code",
   "execution_count": 0,
   "metadata": {
    "application/vnd.databricks.v1+cell": {
     "cellMetadata": {
      "byteLimit": 2048000,
      "rowLimit": 10000
     },
     "inputWidgets": {},
     "nuid": "f52dec24-a924-49c4-9fb6-09cfbdd9a2a9",
     "showTitle": false,
     "title": ""
    }
   },
   "outputs": [],
   "source": [
    "from tarandm_analytics.export_predictive_model.create_predictive_model import ExportPredictiveModel\n",
    "epm = ExportPredictiveModel(\n",
    "    endpoint_url=\"http://dm.develop.neo.tarandm.com\",  # USER INPUT - please, define TaranDM endpoint to connect to\n",
    "    username=\"neo\",\n",
    "    password=\"SwhzP0ayz9iHNma6QDkKcYiRr4Qfcc\"\n",
    ")\n",
    "request_data, images = epm.prepare_predictive_model_data(\n",
    "    model_name=\"tarandm_xgboost_neo_thick\",\n",
    "    model=bst.get_booster(),\n",
    "    model_type=\"XGB\",\n",
    "    attributes=top_set_refined,\n",
    "    label_name=\"isdefault_1y\",\n",
    "    target_class=\"1\",\n",
    "    hyperparameters=params,\n",
    "    # attribute_description=attribute_descr,\n",
    "    data=data,\n",
    "    column_name_sample=\"sample\",\n",
    "    column_name_date=\"date_decision\",\n",
    "    column_name_prediction=\"predicted_pd\",\n",
    "    evaluate_performance={\"target\": [\"AUC\"]},\n",
    "    learning_curves_data=evals_result\n",
    ")"
   ]
  },
  {
   "cell_type": "code",
   "execution_count": 0,
   "metadata": {
    "application/vnd.databricks.v1+cell": {
     "cellMetadata": {
      "byteLimit": 2048000,
      "rowLimit": 10000
     },
     "inputWidgets": {},
     "nuid": "386e6bec-2106-4a9b-b25d-2188a89c41b0",
     "showTitle": false,
     "title": ""
    }
   },
   "outputs": [],
   "source": [
    "_ = epm.build_predictive_model(\n",
    "request_data=request_data,\n",
    "images=images,\n",
    "filename=\"/Workspace/Users/wilson.kan@neofinancial.com/ApplicationV2/TaranDM/neo_thick.zip\"\n",
    ")"
   ]
  }
 ],
 "metadata": {
  "application/vnd.databricks.v1+notebook": {
   "dashboards": [],
   "environmentMetadata": {
    "base_environment": "",
    "client": "1"
   },
   "language": "python",
   "notebookMetadata": {
    "mostRecentlyExecutedCommandWithImplicitDF": {
     "commandId": -1,
     "dataframes": [
      "_sqldf"
     ]
    },
    "pythonIndentUnit": 2
   },
   "notebookName": "1. NeoModel_thick",
   "widgets": {}
  }
 },
 "nbformat": 4,
 "nbformat_minor": 0
}
