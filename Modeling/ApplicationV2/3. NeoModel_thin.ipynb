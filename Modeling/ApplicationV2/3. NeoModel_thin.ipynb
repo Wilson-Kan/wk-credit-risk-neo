{
 "cells": [
  {
   "cell_type": "code",
   "execution_count": 0,
   "metadata": {
    "application/vnd.databricks.v1+cell": {
     "cellMetadata": {
      "byteLimit": 2048000,
      "rowLimit": 10000
     },
     "inputWidgets": {},
     "nuid": "20d99970-7971-4e6b-8104-a45c2c887c01",
     "showTitle": false,
     "tableResultSettingsMap": {},
     "title": ""
    }
   },
   "outputs": [],
   "source": [
    "!pip install tarandm_analytics==0.1.5\n",
    "!pip install xgboost==2.0.3"
   ]
  },
  {
   "cell_type": "code",
   "execution_count": 0,
   "metadata": {
    "application/vnd.databricks.v1+cell": {
     "cellMetadata": {
      "byteLimit": 2048000,
      "rowLimit": 10000
     },
     "inputWidgets": {},
     "nuid": "edda73e9-8731-4218-9471-6026953c3755",
     "showTitle": false,
     "tableResultSettingsMap": {},
     "title": ""
    }
   },
   "outputs": [],
   "source": [
    "import pandas as pd\n",
    "\n",
    "start_from_pickle = True"
   ]
  },
  {
   "cell_type": "code",
   "execution_count": 0,
   "metadata": {
    "application/vnd.databricks.v1+cell": {
     "cellMetadata": {
      "byteLimit": 2048000,
      "rowLimit": 10000
     },
     "inputWidgets": {},
     "nuid": "65f1e526-626f-40e5-b0dc-1f93595f4aa2",
     "showTitle": false,
     "tableResultSettingsMap": {},
     "title": ""
    }
   },
   "outputs": [],
   "source": [
    "import pickle\n",
    "\n",
    "if not start_from_pickle:\n",
    "    with open(\n",
    "        \"/Workspace/Users/wilson.kan@neofinancial.com/ApplicationV2/pkls/appl_neo_v2_modeling_ready.pkl\",\n",
    "        \"wb\",\n",
    "    ) as f:  # open a text file\n",
    "        pickle.dump(modeling_dummy_df, f)\n",
    "else:\n",
    "    with open(\n",
    "        \"/Workspace/Users/wilson.kan@neofinancial.com/ApplicationV2/pkls/appl_neo_v2_modeling_ready.pkl\",\n",
    "        \"rb\",\n",
    "    ) as f:  # Correctly opening the file in binary read mode\n",
    "        modeling_dummy_df = pickle.load(f)"
   ]
  },
  {
   "cell_type": "code",
   "execution_count": 0,
   "metadata": {
    "application/vnd.databricks.v1+cell": {
     "cellMetadata": {
      "byteLimit": 2048000,
      "rowLimit": 10000
     },
     "inputWidgets": {},
     "nuid": "9b55ed19-a68e-449d-bbac-d338ea92bea2",
     "showTitle": false,
     "tableResultSettingsMap": {},
     "title": ""
    }
   },
   "outputs": [],
   "source": [
    "import numpy as np\n",
    "\n",
    "modeling_oot = modeling_dummy_df[\n",
    "    modeling_dummy_df[\"month_end\"].isin(\n",
    "        [np.datetime64(\"2023-06-30\"), np.datetime64(\"2023-07-31\")]\n",
    "    )\n",
    "]\n",
    "modeling_intime = modeling_dummy_df[\n",
    "    modeling_dummy_df[\"month_end\"] < np.datetime64(\"2023-06-30\")\n",
    "]\n",
    "modeling_intime = modeling_dummy_df[\n",
    "    modeling_dummy_df[\"month_end\"] > np.datetime64(\"2022-12-31\")\n",
    "]"
   ]
  },
  {
   "cell_type": "code",
   "execution_count": 0,
   "metadata": {
    "application/vnd.databricks.v1+cell": {
     "cellMetadata": {
      "byteLimit": 2048000,
      "rowLimit": 10000
     },
     "inputWidgets": {},
     "nuid": "a4fd1de9-b9ee-476e-9374-2749566534f8",
     "showTitle": false,
     "tableResultSettingsMap": {},
     "title": ""
    }
   },
   "outputs": [],
   "source": [
    "# Modeling only thin\n",
    "\n",
    "modeling_oot = modeling_oot[modeling_oot[\"thin\"] == 1]\n",
    "modeling_intime = modeling_intime[modeling_intime[\"thin\"] == 1]"
   ]
  },
  {
   "cell_type": "code",
   "execution_count": 0,
   "metadata": {
    "application/vnd.databricks.v1+cell": {
     "cellMetadata": {
      "byteLimit": 2048000,
      "rowLimit": 10000
     },
     "inputWidgets": {},
     "nuid": "4b746ad5-11f5-4a02-bf4d-0c401d2e858e",
     "showTitle": false,
     "tableResultSettingsMap": {},
     "title": ""
    }
   },
   "outputs": [],
   "source": [
    "from xgboost import XGBClassifier\n",
    "import xgboost as xgb\n",
    "from sklearn.model_selection import train_test_split\n",
    "\n",
    "# dropping duplicated features\n",
    "X_train, X_test, y_train, y_test = train_test_split(\n",
    "    modeling_intime.drop(\n",
    "        [\"month_end\", \"isdefault_1y\", \"originalCreditScore\", \"GO17\"], axis=1\n",
    "    ),\n",
    "    modeling_intime[\"isdefault_1y\"],\n",
    "    test_size=0.2,\n",
    "    random_state=459339,\n",
    ")\n",
    "# create model instance\n",
    "bst = XGBClassifier(\n",
    "    n_estimators=100,\n",
    "    max_depth=6,\n",
    "    colsample_bytree=0.75,\n",
    "    subsample=0.5,\n",
    "    gamma=1,\n",
    "    eta=0.1,\n",
    "    min_child_weight=2,\n",
    "    objective=\"binary:logistic\",\n",
    "    random_state=939180,\n",
    ")\n",
    "# fit model\n",
    "bst.fit(\n",
    "    X_train,\n",
    "    y_train,\n",
    "    verbose=True,\n",
    "    early_stopping_rounds=10,\n",
    "    eval_metric=\"auc\",\n",
    "    eval_set=[(X_test, y_test)],\n",
    ")\n",
    "xgb.plot_importance(bst)"
   ]
  },
  {
   "cell_type": "code",
   "execution_count": 0,
   "metadata": {
    "application/vnd.databricks.v1+cell": {
     "cellMetadata": {
      "byteLimit": 2048000,
      "rowLimit": 10000
     },
     "inputWidgets": {},
     "nuid": "81eafc82-535a-4641-93b0-cac18378b714",
     "showTitle": false,
     "tableResultSettingsMap": {},
     "title": ""
    }
   },
   "outputs": [],
   "source": [
    "feature_imp = []\n",
    "\n",
    "for i in range(len(bst.feature_importances_)):\n",
    "    feature_imp.append((bst.feature_names_in_[i], bst.feature_importances_[i]))\n",
    "\n",
    "feature_imp.sort(key=lambda tup: tup[1], reverse=True)\n",
    "feature_imp"
   ]
  },
  {
   "cell_type": "code",
   "execution_count": 0,
   "metadata": {
    "application/vnd.databricks.v1+cell": {
     "cellMetadata": {
      "byteLimit": 2048000,
      "rowLimit": 10000
     },
     "inputWidgets": {},
     "nuid": "a3bbc7d2-b159-43ca-82d4-d5981dca4bd0",
     "showTitle": false,
     "tableResultSettingsMap": {},
     "title": ""
    }
   },
   "outputs": [],
   "source": [
    "top_set = []\n",
    "for i in range(20):\n",
    "    top_set.append(feature_imp[i][0])\n",
    "print(top_set)\n",
    "# create model instance\n",
    "bst = XGBClassifier(\n",
    "    n_estimators=100,\n",
    "    max_depth=6,\n",
    "    colsample_bytree=0.75,\n",
    "    subsample=0.5,\n",
    "    gamma=1,\n",
    "    eta=0.1,\n",
    "    min_child_weight=2,\n",
    "    random_state=4916,\n",
    ")\n",
    "# fit model\n",
    "bst.fit(\n",
    "    X_train[top_set],\n",
    "    y_train,\n",
    "    early_stopping_rounds=10,\n",
    "    eval_metric=\"auc\",\n",
    "    eval_set=[(X_test[top_set], y_test)],\n",
    ")\n",
    "xgb.plot_importance(bst)"
   ]
  },
  {
   "cell_type": "code",
   "execution_count": 0,
   "metadata": {
    "application/vnd.databricks.v1+cell": {
     "cellMetadata": {
      "byteLimit": 2048000,
      "rowLimit": 10000
     },
     "inputWidgets": {},
     "nuid": "2bf72fb9-7bc7-4c69-857b-33f469a26d0f",
     "showTitle": false,
     "tableResultSettingsMap": {},
     "title": ""
    }
   },
   "outputs": [],
   "source": [
    "from sklearn.metrics import roc_auc_score\n",
    "\n",
    "x_train_scr = bst.predict_proba(X_train[top_set])\n",
    "x_test_scr = bst.predict_proba(X_test[top_set])\n",
    "x_oot_scr = bst.predict_proba(modeling_oot[top_set])\n",
    "print(\"train\", 2 * roc_auc_score(y_train, x_train_scr[:, 1]) - 1)\n",
    "print(\"test\", 2 * roc_auc_score(y_test, x_test_scr[:, 1]) - 1)\n",
    "print(\"oot\", 2 * roc_auc_score(modeling_oot[\"isdefault_1y\"], x_oot_scr[:, 1]) - 1)"
   ]
  },
  {
   "cell_type": "code",
   "execution_count": 0,
   "metadata": {
    "application/vnd.databricks.v1+cell": {
     "cellMetadata": {
      "byteLimit": 2048000,
      "rowLimit": 10000
     },
     "inputWidgets": {},
     "nuid": "cb6e5ad8-af2d-438b-824e-46f46d636b94",
     "showTitle": false,
     "tableResultSettingsMap": {},
     "title": ""
    }
   },
   "outputs": [],
   "source": [
    "thin = modeling_dummy_df[modeling_dummy_df[\"thin\"] == 1]\n",
    "x_thin_scr = bst.predict_proba(thin[top_set])\n",
    "print(\"thin\", 2 * roc_auc_score(thin[\"isdefault_1y\"], x_thin_scr[:, 1]) - 1)"
   ]
  },
  {
   "cell_type": "code",
   "execution_count": 0,
   "metadata": {
    "application/vnd.databricks.v1+cell": {
     "cellMetadata": {
      "byteLimit": 2048000,
      "rowLimit": 10000
     },
     "inputWidgets": {},
     "nuid": "2b99ea84-1a68-4ae2-b8bc-48d36795a8fa",
     "showTitle": false,
     "tableResultSettingsMap": {},
     "title": ""
    }
   },
   "outputs": [],
   "source": [
    "feature_imp = []\n",
    "\n",
    "for i in range(len(bst.feature_importances_)):\n",
    "    feature_imp.append((bst.feature_names_in_[i], bst.feature_importances_[i]))\n",
    "\n",
    "feature_imp.sort(key=lambda tup: tup[1], reverse=True)\n",
    "for (k, v) in feature_imp:\n",
    "    print(f\"{k}\\t{v}\")"
   ]
  },
  {
   "cell_type": "markdown",
   "metadata": {
    "application/vnd.databricks.v1+cell": {
     "cellMetadata": {
      "byteLimit": 2048000,
      "rowLimit": 10000
     },
     "inputWidgets": {},
     "nuid": "237dfc3c-b942-4da9-a70a-206c96847400",
     "showTitle": false,
     "tableResultSettingsMap": {},
     "title": ""
    }
   },
   "source": [
    "## Sensitivity Testing to check for direction and impact"
   ]
  },
  {
   "cell_type": "code",
   "execution_count": 0,
   "metadata": {
    "application/vnd.databricks.v1+cell": {
     "cellMetadata": {
      "byteLimit": 2048000,
      "rowLimit": 10000
     },
     "inputWidgets": {},
     "nuid": "f870fb81-1384-4608-bda6-adc4b267b3c7",
     "showTitle": false,
     "tableResultSettingsMap": {},
     "title": ""
    }
   },
   "outputs": [],
   "source": [
    "def sensitivity(model, dat, var_set, var_type, effect):\n",
    "    res = {}\n",
    "    for v in var_set:\n",
    "        if var_type == \"int\":\n",
    "            dat.loc[:, v] = dat[v] + effect\n",
    "        elif var_type == \"cont\":\n",
    "            dat.loc[:, v] = dat[v] * effect\n",
    "        elif var_type == \"bin\":\n",
    "            dat.loc[:, v] = effect\n",
    "        elif var_type == \"orig\":\n",
    "            dat.loc[:, v] = dat[v]\n",
    "        else:\n",
    "            raise Exception(\"Invalid variable type\")\n",
    "        res[v] = model.predict_proba(dat)[:, 1].mean()\n",
    "    return res"
   ]
  },
  {
   "cell_type": "code",
   "execution_count": 0,
   "metadata": {
    "application/vnd.databricks.v1+cell": {
     "cellMetadata": {
      "byteLimit": 2048000,
      "rowLimit": 10000
     },
     "inputWidgets": {},
     "nuid": "d3d7f814-5206-426a-b074-b7cd1f88e574",
     "showTitle": false,
     "tableResultSettingsMap": {},
     "title": ""
    }
   },
   "outputs": [],
   "source": [
    "int_var = [\"GO15\",\"GO149\",\"GO141\",\"AM167\",\"BC143\",\"AT29\",\"RE05\",\"RE01\",\"RE07\"]\n",
    "cont_var = [\"RE336\",\"GO07\",\"IN60\",\"BC147\",\"creditScore\",\"AM216\",\"AM33\",\"BC94\",\"AM60\",\"RE62\",\"BR60\"]\n",
    "bin_var = []"
   ]
  },
  {
   "cell_type": "code",
   "execution_count": 0,
   "metadata": {
    "application/vnd.databricks.v1+cell": {
     "cellMetadata": {
      "byteLimit": 2048000,
      "rowLimit": 10000
     },
     "inputWidgets": {},
     "nuid": "945bcf4a-99ad-470e-9671-ac17dd94c606",
     "showTitle": false,
     "tableResultSettingsMap": {},
     "title": ""
    }
   },
   "outputs": [],
   "source": [
    "vani = sensitivity(bst, modeling_oot[top_set], [int_var[0]], \"orig\", 1)[int_var[0]]\n",
    "int_inc = sensitivity(bst, modeling_oot[top_set], int_var, \"int\", 3)\n",
    "int_des = sensitivity(bst, modeling_oot[top_set], int_var, \"int\", -3)\n",
    "cont_inc = sensitivity(bst, modeling_oot[top_set], cont_var, \"cont\", 1.3)\n",
    "cont_des = sensitivity(bst, modeling_oot[top_set], cont_var, \"cont\", 0.7)\n",
    "# bin_inc = sensitivity(bst, modeling_oot[top_set], bin_var, \"bin\", 1)\n",
    "# bin_des = sensitivity(bst, modeling_oot[top_set], bin_var, \"bin\", 0)\n",
    "# inc = (int_inc | cont_inc) | bin_inc\n",
    "# des = (int_des | cont_des) | bin_des\n",
    "inc = (int_inc | cont_inc)\n",
    "des = (int_des | cont_des)"
   ]
  },
  {
   "cell_type": "code",
   "execution_count": 0,
   "metadata": {
    "application/vnd.databricks.v1+cell": {
     "cellMetadata": {
      "byteLimit": 2048000,
      "rowLimit": 10000
     },
     "inputWidgets": {},
     "nuid": "51c44e6e-75ce-4f25-8f0a-df508d896b2d",
     "showTitle": false,
     "tableResultSettingsMap": {},
     "title": ""
    }
   },
   "outputs": [],
   "source": [
    "final_top_set = [i[0] for i in feature_imp]\n",
    "sens_table = {\"vanilla\": [], \"feat_inc\": [], \"feat_des\": []}\n",
    "for v in final_top_set:\n",
    "    sens_table[\"vanilla\"].append(vani)\n",
    "    sens_table[\"feat_inc\"].append(inc[v])\n",
    "    sens_table[\"feat_des\"].append(des[v])\n",
    "sens_out = pd.DataFrame(sens_table, index=final_top_set)\n",
    "sens_out"
   ]
  },
  {
   "cell_type": "markdown",
   "metadata": {
    "application/vnd.databricks.v1+cell": {
     "cellMetadata": {
      "byteLimit": 2048000,
      "rowLimit": 10000
     },
     "inputWidgets": {},
     "nuid": "262831c7-a352-49b4-862b-db04bf8665c2",
     "showTitle": false,
     "tableResultSettingsMap": {},
     "title": ""
    }
   },
   "source": [
    "##Test new model with strange direction removed (iterative process)"
   ]
  },
  {
   "cell_type": "code",
   "execution_count": 0,
   "metadata": {
    "application/vnd.databricks.v1+cell": {
     "cellMetadata": {
      "byteLimit": 2048000,
      "rowLimit": 10000
     },
     "inputWidgets": {},
     "nuid": "d3d88d92-7b6f-4f13-8bc9-57aec31890ae",
     "showTitle": false,
     "tableResultSettingsMap": {},
     "title": ""
    }
   },
   "outputs": [],
   "source": [
    "top_set_refined = [\n",
    "    v\n",
    "    for v in top_set\n",
    "    if v\n",
    "    not in [\n",
    "        \"GO15\",\n",
    "        \"GO149\",\n",
    "        \"GO07\",\n",
    "        \"IN60\",\n",
    "        \"BC147\",\n",
    "        \"AM216\",\n",
    "        \"AM33\",\n",
    "        \"BC94\",\n",
    "        \"AM60\",\n",
    "        \"RE62\",\n",
    "        \"BR60\",\n",
    "        \"RE01\"\n",
    "    ]\n",
    "]"
   ]
  },
  {
   "cell_type": "code",
   "execution_count": 0,
   "metadata": {
    "application/vnd.databricks.v1+cell": {
     "cellMetadata": {
      "byteLimit": 2048000,
      "rowLimit": 10000
     },
     "inputWidgets": {},
     "nuid": "79f05f6c-ff9b-4ead-b651-de8e58c6ff3f",
     "showTitle": false,
     "tableResultSettingsMap": {},
     "title": ""
    }
   },
   "outputs": [],
   "source": [
    "# create model instance\n",
    "bst = XGBClassifier(\n",
    "    n_estimators=25,\n",
    "    max_depth=6,\n",
    "    colsample_bytree=0.75,\n",
    "    subsample=0.5,\n",
    "    gamma=1,\n",
    "    eta=0.1,\n",
    "    min_child_weight=2,\n",
    "    random_state=587102,\n",
    ")\n",
    "# fit model\n",
    "bst.fit(\n",
    "    X_train[top_set_refined],\n",
    "    y_train,\n",
    "    # early_stopping_rounds=10,\n",
    "    # eval_metric=\"auc\",\n",
    "    eval_set=[(X_test[top_set_refined], y_test)],\n",
    ")\n",
    "xgb.plot_importance(bst)"
   ]
  },
  {
   "cell_type": "code",
   "execution_count": 0,
   "metadata": {
    "application/vnd.databricks.v1+cell": {
     "cellMetadata": {
      "byteLimit": 2048000,
      "rowLimit": 10000
     },
     "inputWidgets": {},
     "nuid": "b87e241f-396f-4dba-b977-50a34669585e",
     "showTitle": false,
     "tableResultSettingsMap": {},
     "title": ""
    }
   },
   "outputs": [],
   "source": [
    "x_train_scr = bst.predict_proba(X_train[top_set_refined])\n",
    "x_test_scr = bst.predict_proba(X_test[top_set_refined])\n",
    "x_oot_scr = bst.predict_proba(modeling_oot[top_set_refined])\n",
    "print(\"train\", 2 * roc_auc_score(y_train, x_train_scr[:, 1]) - 1)\n",
    "print(\"test\", 2 * roc_auc_score(y_test, x_test_scr[:, 1]) - 1)\n",
    "print(\"oot\", 2 * roc_auc_score(modeling_oot[\"isdefault_1y\"], x_oot_scr[:, 1]) - 1)\n",
    "\n",
    "thin = modeling_dummy_df[modeling_dummy_df[\"thin\"] == 1]\n",
    "x_thin_scr = bst.predict_proba(thin[top_set_refined])\n",
    "print(\"thin\", 2 * roc_auc_score(thin[\"isdefault_1y\"], x_thin_scr[:, 1]) - 1)\n",
    "\n",
    "feature_imp_refined = []\n",
    "\n",
    "for i in range(len(bst.feature_importances_)):\n",
    "    feature_imp_refined.append((bst.feature_names_in_[i], bst.feature_importances_[i]))\n",
    "\n",
    "feature_imp_refined.sort(key=lambda tup: tup[1], reverse=True)"
   ]
  },
  {
   "cell_type": "code",
   "execution_count": 0,
   "metadata": {
    "application/vnd.databricks.v1+cell": {
     "cellMetadata": {
      "byteLimit": 2048000,
      "rowLimit": 10000
     },
     "inputWidgets": {},
     "nuid": "069d480d-f600-4ca3-8a20-a944299cee60",
     "showTitle": false,
     "tableResultSettingsMap": {},
     "title": ""
    }
   },
   "outputs": [],
   "source": [
    "int_var = [\"GO141\",\"AM167\",\"BC143\",\"AT29\",\"RE05\",\"RE07\"]\n",
    "cont_var = [\"RE336\",\"creditScore\"]\n",
    "bin_var = []\n",
    "\n",
    "vani = sensitivity(bst, modeling_oot[top_set_refined], [int_var[0]], \"orig\", 1)[\n",
    "    int_var[0]\n",
    "]\n",
    "int_inc = sensitivity(bst, modeling_oot[top_set_refined], int_var, \"int\", 1)\n",
    "int_des = sensitivity(bst, modeling_oot[top_set_refined], int_var, \"int\", -1)\n",
    "cont_inc = sensitivity(bst, modeling_oot[top_set_refined], cont_var, \"cont\", 1.3)\n",
    "cont_des = sensitivity(bst, modeling_oot[top_set_refined], cont_var, \"cont\", 0.7)\n",
    "inc = int_inc | cont_inc\n",
    "des = int_des | cont_des\n",
    "\n",
    "final_top_set = [i[0] for i in feature_imp_refined]\n",
    "sens_table = {\"vanilla\": [], \"feat_inc\": [], \"feat_des\": []}\n",
    "for v in final_top_set:\n",
    "    sens_table[\"vanilla\"].append(vani)\n",
    "    sens_table[\"feat_inc\"].append(inc[v])\n",
    "    sens_table[\"feat_des\"].append(des[v])\n",
    "sens_out = pd.DataFrame(sens_table, index=final_top_set)\n",
    "sens_out"
   ]
  },
  {
   "cell_type": "markdown",
   "metadata": {
    "application/vnd.databricks.v1+cell": {
     "cellMetadata": {
      "byteLimit": 2048000,
      "rowLimit": 10000
     },
     "inputWidgets": {},
     "nuid": "de8e0501-6312-45bb-8523-ef2e22b22072",
     "showTitle": false,
     "tableResultSettingsMap": {},
     "title": ""
    }
   },
   "source": [
    "## Save model that can be loaded later with load_model"
   ]
  },
  {
   "cell_type": "code",
   "execution_count": 0,
   "metadata": {
    "application/vnd.databricks.v1+cell": {
     "cellMetadata": {
      "byteLimit": 2048000,
      "rowLimit": 10000
     },
     "inputWidgets": {},
     "nuid": "3c9a0bf8-7d35-4725-8753-5b38ee6df576",
     "showTitle": false,
     "tableResultSettingsMap": {},
     "title": ""
    }
   },
   "outputs": [],
   "source": [
    "bst.save_model(\n",
    "    \"/Workspace/Users/wilson.kan@neofinancial.com/ApplicationV2/SaveModels/neo_thin.json\"\n",
    ")"
   ]
  },
  {
   "cell_type": "markdown",
   "metadata": {
    "application/vnd.databricks.v1+cell": {
     "cellMetadata": {
      "byteLimit": 2048000,
      "rowLimit": 10000
     },
     "inputWidgets": {},
     "nuid": "1ab6c9bc-bd58-426f-bf38-7a2f9e6b4ec1",
     "showTitle": false,
     "tableResultSettingsMap": {},
     "title": ""
    }
   },
   "source": [
    "###Export model for Taran use"
   ]
  },
  {
   "cell_type": "code",
   "execution_count": 0,
   "metadata": {
    "application/vnd.databricks.v1+cell": {
     "cellMetadata": {
      "byteLimit": 2048000,
      "rowLimit": 10000
     },
     "inputWidgets": {},
     "nuid": "c3dbe55d-9667-45f0-a068-3b4524f9b61c",
     "showTitle": false,
     "tableResultSettingsMap": {},
     "title": ""
    }
   },
   "outputs": [],
   "source": [
    "# data_x = modeling_dummy_df[modeling_dummy_df[\"thin\"] == 1]\n",
    "# fnt = top_set_refined.copy()\n",
    "# fnt.append(\"isdefault_1y\")\n",
    "# data = data_x[fnt]\n",
    "data = X_train[top_set_refined]\n",
    "data[\"isdefault_1y\"] = y_train\n",
    "evals_result = bst.evals_result()\n",
    "\n",
    "params =  {\n",
    "    'n_estimators': 25,\n",
    "    'max_depth': 6,\n",
    "    'colsample_bytree':0.75,\n",
    "    'subsample': 0.5,\n",
    "    'gamma': 1,\n",
    "    'eta': 0.1,\n",
    "    'min_child_weight': 2,\n",
    "    'random_state': 587102,\n",
    "}"
   ]
  },
  {
   "cell_type": "code",
   "execution_count": 0,
   "metadata": {
    "application/vnd.databricks.v1+cell": {
     "cellMetadata": {
      "byteLimit": 2048000,
      "rowLimit": 10000
     },
     "inputWidgets": {},
     "nuid": "b08a6ce3-ccde-4f6e-94d8-cfaae507b98e",
     "showTitle": false,
     "tableResultSettingsMap": {},
     "title": ""
    }
   },
   "outputs": [],
   "source": [
    "from tarandm_analytics.export_predictive_model.create_predictive_model import ExportPredictiveModel\n",
    "epm = ExportPredictiveModel(\n",
    "    endpoint_url=\"http://dm.develop.neo.tarandm.com\",  # USER INPUT - please, define TaranDM endpoint to connect to\n",
    "    username=\"neo\",\n",
    "    password=\"SwhzP0ayz9iHNma6QDkKcYiRr4Qfcc\"\n",
    ")\n",
    "request_data, images = epm.prepare_predictive_model_data(\n",
    "    model_name=\"tarandm_xgboost_neo_thin\",\n",
    "    model=bst.get_booster(),\n",
    "    model_type=\"XGB\",\n",
    "    attributes=top_set_refined,\n",
    "    label_name=\"isdefault_1y\",\n",
    "    target_class=\"1\",\n",
    "    hyperparameters=params,\n",
    "    # attribute_description=attribute_descr,\n",
    "    data=data,\n",
    "    column_name_sample=\"sample\",\n",
    "    column_name_date=\"date_decision\",\n",
    "    column_name_prediction=\"predicted_pd\",\n",
    "    evaluate_performance={\"target\": [\"AUC\"]},\n",
    "    learning_curves_data=evals_result\n",
    ")"
   ]
  },
  {
   "cell_type": "code",
   "execution_count": 0,
   "metadata": {
    "application/vnd.databricks.v1+cell": {
     "cellMetadata": {
      "byteLimit": 2048000,
      "rowLimit": 10000
     },
     "inputWidgets": {},
     "nuid": "31f5529a-5e1c-459b-bd7d-ec91fbcff7c2",
     "showTitle": false,
     "tableResultSettingsMap": {},
     "title": ""
    }
   },
   "outputs": [],
   "source": [
    "_ = epm.build_predictive_model(\n",
    "request_data=request_data,\n",
    "images=images,\n",
    "filename=\"/Workspace/Users/wilson.kan@neofinancial.com/ApplicationV2/TaranDM/neo_thin.zip\"\n",
    ")"
   ]
  }
 ],
 "metadata": {
  "application/vnd.databricks.v1+notebook": {
   "dashboards": [],
   "environmentMetadata": {
    "base_environment": "",
    "client": "1"
   },
   "language": "python",
   "notebookMetadata": {
    "mostRecentlyExecutedCommandWithImplicitDF": {
     "commandId": -1,
     "dataframes": [
      "_sqldf"
     ]
    },
    "pythonIndentUnit": 2
   },
   "notebookName": "3. NeoModel_thin",
   "widgets": {}
  },
  "language_info": {
   "name": "python"
  }
 },
 "nbformat": 4,
 "nbformat_minor": 0
}
