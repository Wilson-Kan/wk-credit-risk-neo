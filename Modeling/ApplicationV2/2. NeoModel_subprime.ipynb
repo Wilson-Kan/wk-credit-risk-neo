{
 "cells": [
  {
   "cell_type": "code",
   "execution_count": 0,
   "metadata": {
    "application/vnd.databricks.v1+cell": {
     "cellMetadata": {
      "byteLimit": 2048000,
      "rowLimit": 10000
     },
     "inputWidgets": {},
     "nuid": "edda73e9-8731-4218-9471-6026953c3755",
     "showTitle": false,
     "title": ""
    }
   },
   "outputs": [],
   "source": [
    "import pandas as pd\n",
    "\n",
    "start_from_pickle = True"
   ]
  },
  {
   "cell_type": "code",
   "execution_count": 0,
   "metadata": {
    "application/vnd.databricks.v1+cell": {
     "cellMetadata": {
      "byteLimit": 2048000,
      "rowLimit": 10000
     },
     "inputWidgets": {},
     "nuid": "65f1e526-626f-40e5-b0dc-1f93595f4aa2",
     "showTitle": false,
     "title": ""
    }
   },
   "outputs": [],
   "source": [
    "import pickle\n",
    "\n",
    "if not start_from_pickle:\n",
    "    with open(\n",
    "        \"/Workspace/Users/wilson.kan@neofinancial.com/ApplicationV2/pkls/appl_neo_v2_modeling_ready.pkl\",\n",
    "        \"wb\",\n",
    "    ) as f:  # open a text file\n",
    "        pickle.dump(modeling_dummy_df, f)\n",
    "else:\n",
    "    with open(\n",
    "        \"/Workspace/Users/wilson.kan@neofinancial.com/ApplicationV2/pkls/appl_neo_v2_modeling_ready.pkl\",\n",
    "        \"rb\",\n",
    "    ) as f:  # Correctly opening the file in binary read mode\n",
    "        modeling_dummy_df = pickle.load(f)"
   ]
  },
  {
   "cell_type": "code",
   "execution_count": 0,
   "metadata": {
    "application/vnd.databricks.v1+cell": {
     "cellMetadata": {
      "byteLimit": 2048000,
      "rowLimit": 10000
     },
     "inputWidgets": {},
     "nuid": "9b55ed19-a68e-449d-bbac-d338ea92bea2",
     "showTitle": false,
     "title": ""
    }
   },
   "outputs": [],
   "source": [
    "import numpy as np\n",
    "\n",
    "### EDIT THIS PLEASE - OOT removed and opt for other validation method ###\n",
    "\n",
    "# Subprime oot needs to be shifted due to data availablity\n",
    "\n",
    "# modeling_oot = modeling_dummy_df[\n",
    "#     modeling_dummy_df[\"month_end\"].isin([np.datetime64(\"2024-02-29\"),np.datetime64(\"2024-03-31\")])\n",
    "# ]\n",
    "modeling_intime = modeling_dummy_df[\n",
    "    modeling_dummy_df[\"month_end\"] <= np.datetime64(\"2024-03-31\")\n",
    "]"
   ]
  },
  {
   "cell_type": "code",
   "execution_count": 0,
   "metadata": {
    "application/vnd.databricks.v1+cell": {
     "cellMetadata": {
      "byteLimit": 2048000,
      "rowLimit": 10000
     },
     "inputWidgets": {},
     "nuid": "ed09b439-338c-46d3-8f29-18d84967ab1c",
     "showTitle": false,
     "title": ""
    }
   },
   "outputs": [],
   "source": [
    "# Modeling only subprime\n",
    "\n",
    "# modeling_oot = modeling_oot[modeling_oot[\"subprime\"] == 1]\n",
    "modeling_intime = modeling_intime[modeling_intime[\"subprime\"] == 1]"
   ]
  },
  {
   "cell_type": "code",
   "execution_count": 0,
   "metadata": {
    "application/vnd.databricks.v1+cell": {
     "cellMetadata": {
      "byteLimit": 2048000,
      "rowLimit": 10000
     },
     "inputWidgets": {},
     "nuid": "4b746ad5-11f5-4a02-bf4d-0c401d2e858e",
     "showTitle": false,
     "title": ""
    }
   },
   "outputs": [],
   "source": [
    "from xgboost import XGBClassifier\n",
    "import xgboost as xgb\n",
    "from sklearn.model_selection import train_test_split\n",
    "\n",
    "# dropping duplicated features\n",
    "X_train, X_test, y_train, y_test = train_test_split(\n",
    "    modeling_intime.drop(\n",
    "        [\"month_end\", \"isdefault_1y\", \"originalCreditScore\", \"GO17\"], axis=1\n",
    "    ),\n",
    "    modeling_intime[\"isdefault_1y\"],\n",
    "    test_size=0.2,\n",
    "    random_state=651677,\n",
    ")\n",
    "# create model instance\n",
    "bst = XGBClassifier(\n",
    "    n_estimators=100,\n",
    "    max_depth=6,\n",
    "    colsample_bytree=0.75,\n",
    "    subsample=0.5,\n",
    "    gamma=1,\n",
    "    eta=0.1,\n",
    "    min_child_weight=2,\n",
    "    objective=\"binary:logistic\",\n",
    "    random_state=723056,\n",
    ")\n",
    "# fit model\n",
    "bst.fit(\n",
    "    X_train,\n",
    "    y_train,\n",
    "    verbose=True,\n",
    "    early_stopping_rounds=10,\n",
    "    eval_metric=\"auc\",\n",
    "    eval_set=[(X_test, y_test)],\n",
    ")\n",
    "xgb.plot_importance(bst)"
   ]
  },
  {
   "cell_type": "code",
   "execution_count": 0,
   "metadata": {
    "application/vnd.databricks.v1+cell": {
     "cellMetadata": {
      "byteLimit": 2048000,
      "rowLimit": 10000
     },
     "inputWidgets": {},
     "nuid": "81eafc82-535a-4641-93b0-cac18378b714",
     "showTitle": false,
     "title": ""
    }
   },
   "outputs": [],
   "source": [
    "feature_imp = []\n",
    "\n",
    "for i in range(len(bst.feature_importances_)):\n",
    "    feature_imp.append((bst.feature_names_in_[i], bst.feature_importances_[i]))\n",
    "\n",
    "feature_imp.sort(key=lambda tup: tup[1], reverse=True)\n",
    "feature_imp"
   ]
  },
  {
   "cell_type": "code",
   "execution_count": 0,
   "metadata": {
    "application/vnd.databricks.v1+cell": {
     "cellMetadata": {
      "byteLimit": 2048000,
      "rowLimit": 10000
     },
     "inputWidgets": {},
     "nuid": "02e7b833-a35f-4358-9e32-bbd5632613fc",
     "showTitle": false,
     "title": ""
    }
   },
   "outputs": [],
   "source": [
    "# from sklearn.metrics import roc_auc_score\n",
    "# import warnings\n",
    "\n",
    "# warnings.filterwarnings(\"ignore\")\n",
    "\n",
    "# def range_test(num_col):\n",
    "#   top_set = []\n",
    "#   for i in range(num_col):\n",
    "#       top_set.append(feature_imp[i][0])\n",
    "\n",
    "#   # create model instance\n",
    "#   bst = XGBClassifier(\n",
    "#       n_estimators=100,\n",
    "#       max_depth=6,\n",
    "#       colsample_bytree=0.75,\n",
    "#       subsample=0.5,\n",
    "#       gamma=1,\n",
    "#       eta=0.1,\n",
    "#       min_child_weight=3,\n",
    "#       random_state=445287,\n",
    "#   )\n",
    "#   # fit model\n",
    "#   bst.fit(\n",
    "#       X_train[top_set],\n",
    "#       y_train,\n",
    "#       early_stopping_rounds=10,\n",
    "#       eval_metric=\"auc\",\n",
    "#       eval_set=[(X_test[top_set], y_test)],\n",
    "#       verbose=False\n",
    "#   )\n",
    "\n",
    "#   x_train_scr = bst.predict_proba(X_train[top_set])\n",
    "#   x_test_scr = bst.predict_proba(X_test[top_set])\n",
    "#   return (2 * roc_auc_score(y_train, x_train_scr[:, 1]) - 1, 2 * roc_auc_score(y_test, x_test_scr[:, 1]) - 1)\n",
    "\n",
    "# res = {\"n\": [], \"train_gini\": [], \"test_gini\": []}\n",
    "# for i in range(10, len(feature_imp)):\n",
    "#   rt = range_test(i)\n",
    "#   res[\"n\"].append(i)\n",
    "#   res[\"train_gini\"].append(rt[0])\n",
    "#   res[\"test_gini\"].append(rt[1])"
   ]
  },
  {
   "cell_type": "code",
   "execution_count": 0,
   "metadata": {
    "application/vnd.databricks.v1+cell": {
     "cellMetadata": {
      "byteLimit": 2048000,
      "rowLimit": 10000
     },
     "inputWidgets": {},
     "nuid": "08b5ad83-4a31-4998-805b-40db62a33048",
     "showTitle": false,
     "title": ""
    }
   },
   "outputs": [],
   "source": [
    "# res = pd.DataFrame(res)\n",
    "# res.plot(x=\"n\", y=[\"train_gini\", \"test_gini\"])"
   ]
  },
  {
   "cell_type": "code",
   "execution_count": 0,
   "metadata": {
    "application/vnd.databricks.v1+cell": {
     "cellMetadata": {
      "byteLimit": 2048000,
      "rowLimit": 10000
     },
     "inputWidgets": {},
     "nuid": "3171c397-bb2f-44ab-8777-b416607f47e3",
     "showTitle": false,
     "title": ""
    }
   },
   "outputs": [],
   "source": [
    "# res.to_csv(\"/Workspace/Users/wilson.kan@neofinancial.com/ApplicationV2/Misc/neo_subprime_feature_cnt.csv\")"
   ]
  },
  {
   "cell_type": "code",
   "execution_count": 0,
   "metadata": {
    "application/vnd.databricks.v1+cell": {
     "cellMetadata": {
      "byteLimit": 2048000,
      "rowLimit": 10000
     },
     "inputWidgets": {},
     "nuid": "e7d271cf-a885-42fd-b3a5-36d775491340",
     "showTitle": false,
     "title": ""
    }
   },
   "outputs": [],
   "source": [
    "top_set = []\n",
    "for i in range(20):\n",
    "    top_set.append(feature_imp[i][0])\n",
    "print(top_set)\n",
    "# create model instance\n",
    "bst = XGBClassifier(\n",
    "    n_estimators=100,\n",
    "    max_depth=6,\n",
    "    colsample_bytree=0.75,\n",
    "    subsample=0.5,\n",
    "    gamma=1,\n",
    "    eta=0.1,\n",
    "    min_child_weight=3,\n",
    "    random_state=445287,\n",
    ")\n",
    "# fit model\n",
    "bst.fit(\n",
    "    X_train[top_set],\n",
    "    y_train,\n",
    "    early_stopping_rounds=10,\n",
    "    eval_metric=\"auc\",\n",
    "    eval_set=[(X_test[top_set], y_test)],\n",
    ")\n",
    "xgb.plot_importance(bst)"
   ]
  },
  {
   "cell_type": "code",
   "execution_count": 0,
   "metadata": {
    "application/vnd.databricks.v1+cell": {
     "cellMetadata": {
      "byteLimit": 2048000,
      "rowLimit": 10000
     },
     "inputWidgets": {},
     "nuid": "3a2f822a-af42-4aa6-b8cd-0698826b89e1",
     "showTitle": false,
     "title": ""
    }
   },
   "outputs": [],
   "source": [
    "from sklearn.metrics import roc_auc_score\n",
    "\n",
    "x_train_scr = bst.predict_proba(X_train[top_set])\n",
    "x_test_scr = bst.predict_proba(X_test[top_set])\n",
    "# x_oot_scr = bst.predict_proba(modeling_oot[top_set])\n",
    "print(\"train\", 2 * roc_auc_score(y_train, x_train_scr[:, 1]) - 1)\n",
    "print(\"test\", 2 * roc_auc_score(y_test, x_test_scr[:, 1]) - 1)\n",
    "# print(\"oot\", 2 * roc_auc_score(modeling_oot[\"isdefault_1y\"], x_oot_scr[:, 1]) - 1)"
   ]
  },
  {
   "cell_type": "code",
   "execution_count": 0,
   "metadata": {
    "application/vnd.databricks.v1+cell": {
     "cellMetadata": {
      "byteLimit": 2048000,
      "rowLimit": 10000
     },
     "inputWidgets": {},
     "nuid": "cb6e5ad8-af2d-438b-824e-46f46d636b94",
     "showTitle": false,
     "title": ""
    }
   },
   "outputs": [],
   "source": [
    "sp = modeling_dummy_df[modeling_dummy_df[\"subprime\"] == 1]\n",
    "x_subprime_scr = bst.predict_proba(sp[top_set])\n",
    "print(\"subprime\", 2 * roc_auc_score(sp[\"isdefault_1y\"], x_subprime_scr[:, 1]) - 1)"
   ]
  },
  {
   "cell_type": "code",
   "execution_count": 0,
   "metadata": {
    "application/vnd.databricks.v1+cell": {
     "cellMetadata": {
      "byteLimit": 2048000,
      "rowLimit": 10000
     },
     "inputWidgets": {},
     "nuid": "30d5baf1-c0f3-4bee-8154-43aa36e8e173",
     "showTitle": false,
     "title": ""
    }
   },
   "outputs": [],
   "source": [
    "feature_imp = []\n",
    "\n",
    "for i in range(len(bst.feature_importances_)):\n",
    "    feature_imp.append((bst.feature_names_in_[i], bst.feature_importances_[i]))\n",
    "\n",
    "feature_imp.sort(key=lambda tup: tup[1], reverse=True)\n",
    "for (k, v) in feature_imp:\n",
    "    print(f\"{k}\\t{v}\")"
   ]
  },
  {
   "cell_type": "markdown",
   "metadata": {
    "application/vnd.databricks.v1+cell": {
     "cellMetadata": {
      "byteLimit": 2048000,
      "rowLimit": 10000
     },
     "inputWidgets": {},
     "nuid": "1bfbc5a6-e602-4068-847e-88f77812b1d4",
     "showTitle": false,
     "title": ""
    }
   },
   "source": [
    "## Sensitivity Testing to check for direction and impact"
   ]
  },
  {
   "cell_type": "code",
   "execution_count": 0,
   "metadata": {
    "application/vnd.databricks.v1+cell": {
     "cellMetadata": {
      "byteLimit": 2048000,
      "rowLimit": 10000
     },
     "inputWidgets": {},
     "nuid": "241eaa79-5edd-4990-b357-fda42a915deb",
     "showTitle": false,
     "title": ""
    }
   },
   "outputs": [],
   "source": [
    "def sensitivity(model, dat, var_set, var_type, effect):\n",
    "    res = {}\n",
    "    for v in var_set:\n",
    "        if var_type == \"int\":\n",
    "            dat.loc[:, v] = dat[v] + effect\n",
    "        elif var_type == \"cont\":\n",
    "            dat.loc[:, v] = dat[v] * effect\n",
    "        elif var_type == \"bin\":\n",
    "            dat.loc[:, v] = effect\n",
    "        elif var_type == \"orig\":\n",
    "            dat.loc[:, v] = dat[v]\n",
    "        else:\n",
    "            raise Exception(\"Invalid variable type\")\n",
    "        res[v] = model.predict_proba(dat)[:, 1].mean()\n",
    "    return res"
   ]
  },
  {
   "cell_type": "code",
   "execution_count": 0,
   "metadata": {
    "application/vnd.databricks.v1+cell": {
     "cellMetadata": {
      "byteLimit": 2048000,
      "rowLimit": 10000
     },
     "inputWidgets": {},
     "nuid": "90f69ce9-05de-49c3-a9f8-3af22c66998d",
     "showTitle": false,
     "title": ""
    }
   },
   "outputs": [],
   "source": [
    "int_var = ['GO148',\n",
    "'RE07',\n",
    "'RE01',\n",
    "'AM167',\n",
    "'AM41',\n",
    "'GO21',\n",
    "'BC141',]\n",
    "cont_var = ['RE61',\n",
    "'BC148',\n",
    "'BC60',\n",
    "'RE28',\n",
    "'AT60',\n",
    "'BR60',\n",
    "'AM60',\n",
    "'RE34',\n",
    "'RE35',\n",
    "'AM33',\n",
    "'BC62',\n",
    "'BC147',\n",
    "'GO07'\n",
    "]\n",
    "bin_var = []"
   ]
  },
  {
   "cell_type": "code",
   "execution_count": 0,
   "metadata": {
    "application/vnd.databricks.v1+cell": {
     "cellMetadata": {
      "byteLimit": 2048000,
      "rowLimit": 10000
     },
     "inputWidgets": {},
     "nuid": "5f184fc8-9a0d-47e6-a2cf-2a0676e89d98",
     "showTitle": false,
     "title": ""
    }
   },
   "outputs": [],
   "source": [
    "vani = sensitivity(bst, modeling_intime[top_set], [int_var[0]], \"orig\", 1)[int_var[0]]\n",
    "int_inc = sensitivity(bst, modeling_intime[top_set], int_var, \"int\", 3)\n",
    "int_des = sensitivity(bst, modeling_intime[top_set], int_var, \"int\", -3)\n",
    "cont_inc = sensitivity(bst, modeling_intime[top_set], cont_var, \"cont\", 1.3)\n",
    "cont_des = sensitivity(bst, modeling_intime[top_set], cont_var, \"cont\", 0.7)\n",
    "# bin_inc = sensitivity(bst, modeling_intime[top_set], bin_var, \"bin\", 1)\n",
    "# bin_des = sensitivity(bst, modeling_intime[top_set], bin_var, \"bin\", 0)\n",
    "# inc = (int_inc | cont_inc) | bin_inc\n",
    "# des = (int_des | cont_des) | bin_des\n",
    "inc = (int_inc | cont_inc)\n",
    "des = (int_des | cont_des)"
   ]
  },
  {
   "cell_type": "code",
   "execution_count": 0,
   "metadata": {
    "application/vnd.databricks.v1+cell": {
     "cellMetadata": {
      "byteLimit": 2048000,
      "rowLimit": 10000
     },
     "inputWidgets": {},
     "nuid": "63bcd043-c2a3-4377-aba6-8dce23192367",
     "showTitle": false,
     "title": ""
    }
   },
   "outputs": [],
   "source": [
    "final_top_set = [i[0] for i in feature_imp]\n",
    "sens_table = {\"vanilla\": [], \"feat_inc\": [], \"feat_des\": []}\n",
    "for v in final_top_set:\n",
    "    sens_table[\"vanilla\"].append(vani)\n",
    "    sens_table[\"feat_inc\"].append(inc[v])\n",
    "    sens_table[\"feat_des\"].append(des[v])\n",
    "sens_out = pd.DataFrame(sens_table, index=final_top_set)\n",
    "sens_out"
   ]
  },
  {
   "cell_type": "markdown",
   "metadata": {
    "application/vnd.databricks.v1+cell": {
     "cellMetadata": {
      "byteLimit": 2048000,
      "rowLimit": 10000
     },
     "inputWidgets": {},
     "nuid": "8e0c888c-9119-4c0a-90ee-342597224cd3",
     "showTitle": false,
     "title": ""
    }
   },
   "source": [
    "##Test new model with strange direction removed (iterative process)"
   ]
  },
  {
   "cell_type": "code",
   "execution_count": 0,
   "metadata": {
    "application/vnd.databricks.v1+cell": {
     "cellMetadata": {
      "byteLimit": 2048000,
      "rowLimit": 10000
     },
     "inputWidgets": {},
     "nuid": "e16c87b2-ecf3-428e-b5db-e6ae073c6a42",
     "showTitle": false,
     "title": ""
    }
   },
   "outputs": [],
   "source": [
    "top_set_refined = [\n",
    "    v\n",
    "    for v in top_set\n",
    "    if v\n",
    "    not in [\n",
    "      \"RE34\",\n",
    "      \"RE35\",\n",
    "      \"GO07\",\n",
    "      \"BC141\"\n",
    "    ]\n",
    "]\n",
    "\n",
    "# top_set_refined.extend([\"creditScore\"])"
   ]
  },
  {
   "cell_type": "code",
   "execution_count": 0,
   "metadata": {
    "application/vnd.databricks.v1+cell": {
     "cellMetadata": {
      "byteLimit": 2048000,
      "rowLimit": 10000
     },
     "inputWidgets": {},
     "nuid": "80333223-0ad1-4c89-bd92-c2ac8cb86468",
     "showTitle": false,
     "title": ""
    }
   },
   "outputs": [],
   "source": [
    "# create model instance\n",
    "bst = XGBClassifier(\n",
    "    n_estimators=100,\n",
    "    max_depth=6,\n",
    "    colsample_bytree=0.75,\n",
    "    subsample=0.5,\n",
    "    gamma=1,\n",
    "    eta=0.1,\n",
    "    min_child_weight=2,\n",
    "    random_state=484674,\n",
    ")\n",
    "# fit model\n",
    "bst.fit(\n",
    "    X_train[top_set_refined],\n",
    "    y_train,\n",
    "    early_stopping_rounds=10,\n",
    "    eval_metric=\"auc\",\n",
    "    eval_set=[(X_test[top_set_refined], y_test)],\n",
    ")\n",
    "xgb.plot_importance(bst)"
   ]
  },
  {
   "cell_type": "code",
   "execution_count": 0,
   "metadata": {
    "application/vnd.databricks.v1+cell": {
     "cellMetadata": {
      "byteLimit": 2048000,
      "rowLimit": 10000
     },
     "inputWidgets": {},
     "nuid": "c435b583-f8ea-4945-81e9-7fc6a58a5374",
     "showTitle": false,
     "title": ""
    }
   },
   "outputs": [],
   "source": [
    "x_train_scr = bst.predict_proba(X_train[top_set_refined])\n",
    "x_test_scr = bst.predict_proba(X_test[top_set_refined])\n",
    "# x_oot_scr = bst.predict_proba(modeling_oot[top_set_refined])\n",
    "print(\"train\", 2 * roc_auc_score(y_train, x_train_scr[:, 1]) - 1)\n",
    "print(\"test\", 2 * roc_auc_score(y_test, x_test_scr[:, 1]) - 1)\n",
    "# print(\"oot\", 2 * roc_auc_score(modeling_oot[\"isdefault_1y\"], x_oot_scr[:, 1]) - 1)\n",
    "\n",
    "x_subprime_scr = bst.predict_proba(sp[top_set_refined])\n",
    "print(\"subprime\", 2 * roc_auc_score(sp[\"isdefault_1y\"], x_subprime_scr[:, 1]) - 1)\n",
    "\n",
    "feature_imp_refined = []\n",
    "\n",
    "for i in range(len(bst.feature_importances_)):\n",
    "    feature_imp_refined.append((bst.feature_names_in_[i], bst.feature_importances_[i]))\n",
    "\n",
    "feature_imp_refined.sort(key=lambda tup: tup[1], reverse=True)"
   ]
  },
  {
   "cell_type": "code",
   "execution_count": 0,
   "metadata": {
    "application/vnd.databricks.v1+cell": {
     "cellMetadata": {
      "byteLimit": 2048000,
      "rowLimit": 10000
     },
     "inputWidgets": {},
     "nuid": "a147e850-dc74-4586-b89a-a965d0cd5249",
     "showTitle": false,
     "title": ""
    }
   },
   "outputs": [],
   "source": [
    "int_var = ['GO148',\n",
    "'RE07',\n",
    "'RE01',\n",
    "'AM167',\n",
    "'AM41',\n",
    "'GO21']\n",
    "cont_var = ['RE61',\n",
    "'BC148',\n",
    "'BC60',\n",
    "'RE28',\n",
    "'AT60',\n",
    "'BR60',\n",
    "'AM60',\n",
    "'AM33',\n",
    "'BC62',\n",
    "\"BC147\"\n",
    "]\n",
    "bin_var = []\n",
    "\n",
    "vani = sensitivity(bst, modeling_intime[top_set_refined], [int_var[0]], \"orig\", 1)[\n",
    "    int_var[0]\n",
    "]\n",
    "int_inc = sensitivity(bst, modeling_intime[top_set_refined], int_var, \"int\", 1)\n",
    "int_des = sensitivity(bst, modeling_intime[top_set_refined], int_var, \"int\", -1)\n",
    "cont_inc = sensitivity(bst, modeling_intime[top_set_refined], cont_var, \"cont\", 1.3)\n",
    "cont_des = sensitivity(bst, modeling_intime[top_set_refined], cont_var, \"cont\", 0.7)\n",
    "# bin_inc = sensitivity(bst, modeling_oot[top_set_refined], bin_var, \"bin\", 1)\n",
    "# bin_des = sensitivity(bst, modeling_oot[top_set_refined], bin_var, \"bin\", 0)\n",
    "# inc = (int_inc | cont_inc) | bin_inc\n",
    "# des = (int_des | cont_des) | bin_des\n",
    "inc = (int_inc | cont_inc)\n",
    "des = (int_des | cont_des)\n",
    "\n",
    "final_top_set = [i[0] for i in feature_imp_refined]\n",
    "sens_table = {\"vanilla\": [], \"feat_inc\": [], \"feat_des\": []}\n",
    "for v in final_top_set:\n",
    "    sens_table[\"vanilla\"].append(vani)\n",
    "    sens_table[\"feat_inc\"].append(inc[v])\n",
    "    sens_table[\"feat_des\"].append(des[v])\n",
    "sens_out = pd.DataFrame(sens_table, index=final_top_set)\n",
    "sens_out"
   ]
  },
  {
   "cell_type": "markdown",
   "metadata": {
    "application/vnd.databricks.v1+cell": {
     "cellMetadata": {
      "byteLimit": 2048000,
      "rowLimit": 10000
     },
     "inputWidgets": {},
     "nuid": "97c3ac7b-929d-46c3-84f0-a216540c47a3",
     "showTitle": false,
     "title": ""
    }
   },
   "source": [
    "#5 fold validation"
   ]
  },
  {
   "cell_type": "code",
   "execution_count": 0,
   "metadata": {
    "application/vnd.databricks.v1+cell": {
     "cellMetadata": {
      "byteLimit": 2048000,
      "rowLimit": 10000
     },
     "inputWidgets": {},
     "nuid": "d9959ad4-08e6-47d4-a527-754b6b1ddf6f",
     "showTitle": false,
     "title": ""
    }
   },
   "outputs": [],
   "source": [
    "import random\n",
    "random.seed(374158)\n",
    "\n",
    "#Label data\n",
    "modeling_intime[\"fold\"] = [random.randint(1,5) for i in range(len(modeling_intime))]\n",
    "\n",
    "for i in range(1,6):\n",
    "  model_cut = modeling_intime[modeling_intime[\"fold\"]==i]\n",
    "  X_cut = model_cut[top_set_refined]\n",
    "  y_cut = model_cut[\"isdefault_1y\"]\n",
    "  x_cut_scr = bst.predict_proba(X_cut)\n",
    "  print(f\"gini cut {i}: {2 * roc_auc_score(y_cut, x_cut_scr[:, 1]) - 1}\")"
   ]
  },
  {
   "cell_type": "markdown",
   "metadata": {
    "application/vnd.databricks.v1+cell": {
     "cellMetadata": {
      "byteLimit": 2048000,
      "rowLimit": 10000
     },
     "inputWidgets": {},
     "nuid": "dc19ce8d-a701-4d70-b81c-3b2b6c14db4a",
     "showTitle": false,
     "title": ""
    }
   },
   "source": [
    "## Save model that can be loaded later with load_model"
   ]
  },
  {
   "cell_type": "code",
   "execution_count": 0,
   "metadata": {
    "application/vnd.databricks.v1+cell": {
     "cellMetadata": {
      "byteLimit": 2048000,
      "rowLimit": 10000
     },
     "inputWidgets": {},
     "nuid": "72f66b67-0db0-4a22-9d5a-3954f994f4c4",
     "showTitle": false,
     "title": ""
    }
   },
   "outputs": [],
   "source": [
    "bst.save_model(\n",
    "    \"/Workspace/Users/wilson.kan@neofinancial.com/ApplicationV2/SaveModels/neo_subprime.json\"\n",
    ")"
   ]
  }
 ],
 "metadata": {
  "application/vnd.databricks.v1+notebook": {
   "dashboards": [],
   "environmentMetadata": {
    "base_environment": "",
    "client": "1"
   },
   "language": "python",
   "notebookMetadata": {
    "mostRecentlyExecutedCommandWithImplicitDF": {
     "commandId": -1,
     "dataframes": [
      "_sqldf"
     ]
    },
    "pythonIndentUnit": 2
   },
   "notebookName": "2. NeoModel_subprime",
   "widgets": {}
  }
 },
 "nbformat": 4,
 "nbformat_minor": 0
}
