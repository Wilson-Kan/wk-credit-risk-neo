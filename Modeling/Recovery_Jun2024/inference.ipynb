{
 "cells": [
  {
   "cell_type": "code",
   "execution_count": 0,
   "metadata": {
    "application/vnd.databricks.v1+cell": {
     "cellMetadata": {
      "byteLimit": 2048000,
      "rowLimit": 10000
     },
     "inputWidgets": {},
     "nuid": "88acccaf-7f78-44ea-bf04-6512b8fb9887",
     "showTitle": false,
     "tableResultSettingsMap": {},
     "title": ""
    }
   },
   "outputs": [],
   "source": [
    "import mlflow\n",
    "import data_model as dm\n",
    "import datetime as dt\n",
    "import pyspark.sql.functions as F\n",
    "import pandas as pd\n",
    "from delta.tables import DeltaTable"
   ]
  },
  {
   "cell_type": "code",
   "execution_count": 0,
   "metadata": {
    "application/vnd.databricks.v1+cell": {
     "cellMetadata": {
      "byteLimit": 2048000,
      "rowLimit": 10000
     },
     "inputWidgets": {},
     "nuid": "2f7a35ae-d8f1-4dbd-80fb-898a8ff3c73e",
     "showTitle": false,
     "tableResultSettingsMap": {},
     "title": ""
    }
   },
   "outputs": [],
   "source": [
    "categorical = [\n",
    "    \"brand\",\n",
    "    \"creditScoreBucket\",\n",
    "    \"creditFileBucket\",\n",
    "    \"employmentStatus\"\n",
    "]"
   ]
  },
  {
   "cell_type": "code",
   "execution_count": 0,
   "metadata": {
    "application/vnd.databricks.v1+cell": {
     "cellMetadata": {
      "byteLimit": 2048000,
      "rowLimit": 10000
     },
     "inputWidgets": {},
     "nuid": "f18a032c-ca14-4f2f-98f8-fc5eccd30aa4",
     "showTitle": false,
     "tableResultSettingsMap": {},
     "title": ""
    }
   },
   "outputs": [],
   "source": [
    "# Get today's date\n",
    "today = dt.datetime.today()\n",
    "\n",
    "# Get last day of the month by first getting the first day of the current month and subtracting 1 day\n",
    "first_of_month = today.replace(day=1)\n",
    "last_day_last_month = first_of_month - dt.timedelta(days=1)\n",
    "last_day_last_month_formatted = last_day_last_month.strftime('%Y-%m-%d')\n",
    "\n",
    "data_model = dm.main(spark)\n",
    "inference_dm = data_model.filter(F.col(\"lastDayOfMonth\") == last_day_last_month_formatted)\n",
    "inference_pd = inference_dm.toPandas()"
   ]
  },
  {
   "cell_type": "code",
   "execution_count": 0,
   "metadata": {
    "application/vnd.databricks.v1+cell": {
     "cellMetadata": {
      "byteLimit": 2048000,
      "rowLimit": 10000
     },
     "inputWidgets": {},
     "nuid": "c8b8cef5-1b50-4170-8699-ca45995f2be2",
     "showTitle": false,
     "tableResultSettingsMap": {},
     "title": ""
    }
   },
   "outputs": [],
   "source": [
    "# for debugging in the event the job fails\n",
    "inference_pd"
   ]
  },
  {
   "cell_type": "code",
   "execution_count": 0,
   "metadata": {
    "application/vnd.databricks.v1+cell": {
     "cellMetadata": {
      "byteLimit": 2048000,
      "rowLimit": 10000
     },
     "inputWidgets": {},
     "nuid": "9db25884-2918-434c-bce0-6f4d4189bb3a",
     "showTitle": false,
     "tableResultSettingsMap": {},
     "title": ""
    }
   },
   "outputs": [],
   "source": [
    "model_name = \"Collections-V2\"\n",
    "model_version = \"3\"\n",
    "model = mlflow.sklearn.load_model(model_uri=f\"models:/{model_name}/{model_version}\")\n",
    "\n",
    "_inference_dm = inference_pd\n",
    "inference_dm = pd.get_dummies(_inference_dm, columns=categorical, drop_first=True, dummy_na=True).drop([\"isSelfCureMonth\", \"isSelfCureNextMonth\"],axis=1)\n",
    "\n",
    "X_inference = inference_dm.drop([\"creditAccountId\", \"lastDayOfMonth\"], axis = 1)\n",
    "predicted = model.predict_proba(X_inference)[:,1]\n",
    "\n",
    "population = inference_dm\n",
    "final = population.copy(True)\n",
    "final[\"score\"] = predicted"
   ]
  },
  {
   "cell_type": "code",
   "execution_count": 0,
   "metadata": {
    "application/vnd.databricks.v1+cell": {
     "cellMetadata": {
      "byteLimit": 2048000,
      "rowLimit": 10000
     },
     "inputWidgets": {},
     "nuid": "e7a1b2c9-69f9-4d4c-91c8-69bba0e9474b",
     "showTitle": false,
     "tableResultSettingsMap": {},
     "title": ""
    }
   },
   "outputs": [],
   "source": [
    "_inference_dm_df = spark.createDataFrame(_inference_dm)\n",
    "final_df = spark.createDataFrame(final)\n",
    "out = _inference_dm_df.alias(\"isSelfCureMonth\").join(final_df.alias(\"final\"), [\"creditAccountId\", \"lastDayOfMonth\"], \"left\").select(\"isSelfCureMonth.*\", \"final.score\")"
   ]
  },
  {
   "cell_type": "code",
   "execution_count": 0,
   "metadata": {
    "application/vnd.databricks.v1+cell": {
     "cellMetadata": {
      "byteLimit": 2048000,
      "rowLimit": 10000
     },
     "inputWidgets": {},
     "nuid": "b53cbdbe-c220-414a-a8e3-35ed21f9d51f",
     "showTitle": false,
     "tableResultSettingsMap": {},
     "title": ""
    }
   },
   "outputs": [],
   "source": [
    "# joining scored data back to original df to get data not used for training. (creditAccountId, lastDayOfMonth, isSelfCureMonth, isSelfCureNextMonth)\n",
    "_inference_dm_df = spark.createDataFrame(_inference_dm)\n",
    "final_df = spark.createDataFrame(final)\n",
    "out = _inference_dm_df.alias(\"isSelfCureMonth\").join(final_df.alias(\"final\"), [\"creditAccountId\", \"lastDayOfMonth\"], \"left\").select(\"isSelfCureMonth.*\", \"final.score\")\n",
    "\n",
    "# Joining on data already scored to avoid duplicate data if re-run needed in the middle of the month\n",
    "# Try to append, if table not exist, create the table\n",
    "try:\n",
    "  already_Scored = spark.table(\"neo_data_science_production.test_table_not_exist\")\n",
    "  out = out.join(already_Scored.alias(\"already_scored\"), [\"creditAccountId\", \"lastDayOfMonth\"], \"left_anti\")\n",
    "  # append new data\n",
    "  out.write.mode(\"append\").format(\"delta\").option(\"overwriteSchema\", \"True\").saveAsTable(f\"neo_data_science_production.test_table_not_exist\")\n",
    "  # if table not exist create it.\n",
    "except:\n",
    "  out.write.format(\"delta\").option(\"overwriteSchema\", \"True\").saveAsTable(f\"neo_data_science_production.test_table_not_exist\")"
   ]
  },
  {
   "cell_type": "code",
   "execution_count": 0,
   "metadata": {
    "application/vnd.databricks.v1+cell": {
     "cellMetadata": {
      "byteLimit": 2048000,
      "rowLimit": 10000
     },
     "inputWidgets": {},
     "nuid": "a4cb79d2-7778-4836-bfbd-cf7cfd3ada48",
     "showTitle": false,
     "tableResultSettingsMap": {},
     "title": ""
    }
   },
   "outputs": [],
   "source": [
    "# update is selfCureMonth and isSelfCureNextMonth retroactively\n",
    "\n",
    "data_model_dummy_score = data_model.withColumn(\"score\", F.lit(None))\n",
    "already_scored_delta = DeltaTable.forName(spark, \"neo_data_science_production.test_table_not_exist\")\n",
    "\n",
    "(already_scored_delta.alias(\"target\")\n",
    ".merge(data_model_dummy_score.alias(\"source\"),\n",
    "    condition = \"source.lastDayOfMonth = target.lastDayOfMonth and \\\n",
    "                 source.creditAccountId = target.creditAccountId and \\\n",
    "                 (source.isSelfCureMonth != target.isSelfCureMonth or \\\n",
    "                 source.isSelfCureNextMonth != target.isSelfCureNextMonth)\")\n",
    "    .whenMatchedUpdate(\n",
    "              set={\"target.isSelfCureMonth\": \"source.isSelfCureMonth\",\n",
    "                   \"target.isSelfCureNextMonth\": \"source.isSelfCureNextMonth\",\n",
    "                   \"target.score\": \"target.score\"})\n",
    "    .whenNotMatchedInsertAll()\n",
    "    .execute()\n",
    ")"
   ]
  }
 ],
 "metadata": {
  "application/vnd.databricks.v1+notebook": {
   "computePreferences": null,
   "dashboards": [],
   "environmentMetadata": null,
   "language": "python",
   "notebookMetadata": {
    "mostRecentlyExecutedCommandWithImplicitDF": {
     "commandId": 2221450678151303,
     "dataframes": [
      "_sqldf"
     ]
    },
    "pythonIndentUnit": 2
   },
   "notebookName": "inference",
   "widgets": {}
  },
  "language_info": {
   "name": "python"
  }
 },
 "nbformat": 4,
 "nbformat_minor": 0
}
